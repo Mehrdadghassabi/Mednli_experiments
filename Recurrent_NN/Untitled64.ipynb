{
  "nbformat": 4,
  "nbformat_minor": 0,
  "metadata": {
    "colab": {
      "provenance": []
    },
    "kernelspec": {
      "name": "python3",
      "display_name": "Python 3"
    },
    "language_info": {
      "name": "python"
    }
  },
  "cells": [
    {
      "cell_type": "code",
      "source": [
        "!wget https://huggingface.co/garyw/clinical-embeddings-100d-w2v-cr/resolve/main/w2v_OA_CR_100d.bin\n",
        "!wget https://huggingface.co/garyw/clinical-embeddings-100d-w2v-cr/resolve/main/w2v_OA_CR_100d.bin.wv.vectors.npy\n",
        "!wget https://huggingface.co/garyw/clinical-embeddings-100d-w2v-cr/resolve/main/w2v_OA_CR_100d.bin.trainables.syn1neg.npy\n",
        "!pip install fastparquet"
      ],
      "metadata": {
        "colab": {
          "base_uri": "https://localhost:8080/"
        },
        "id": "5tjuxu4zTAXW",
        "outputId": "54f32590-720a-405b-dfbc-dafecd67d719"
      },
      "execution_count": 1,
      "outputs": [
        {
          "output_type": "stream",
          "name": "stdout",
          "text": [
            "--2024-06-18 21:25:10--  https://huggingface.co/garyw/clinical-embeddings-100d-w2v-cr/resolve/main/w2v_OA_CR_100d.bin\n",
            "Resolving huggingface.co (huggingface.co)... 54.192.18.37, 54.192.18.10, 54.192.18.113, ...\n",
            "Connecting to huggingface.co (huggingface.co)|54.192.18.37|:443... connected.\n",
            "HTTP request sent, awaiting response... 302 Found\n",
            "Location: https://cdn-lfs.huggingface.co/repos/e8/72/e872abef7b2278b5cf6a4f41d1455f5d309cdbd6310b2da0a6e9aecc840217e7/7f920b29a2c3861a475f296d397ff679528b064dbb51debf33568ae5f4f7e088?response-content-disposition=inline%3B+filename*%3DUTF-8%27%27w2v_OA_CR_100d.bin%3B+filename%3D%22w2v_OA_CR_100d.bin%22%3B&response-content-type=application%2Foctet-stream&Expires=1719005110&Policy=eyJTdGF0ZW1lbnQiOlt7IkNvbmRpdGlvbiI6eyJEYXRlTGVzc1RoYW4iOnsiQVdTOkVwb2NoVGltZSI6MTcxOTAwNTExMH19LCJSZXNvdXJjZSI6Imh0dHBzOi8vY2RuLWxmcy5odWdnaW5nZmFjZS5jby9yZXBvcy9lOC83Mi9lODcyYWJlZjdiMjI3OGI1Y2Y2YTRmNDFkMTQ1NWY1ZDMwOWNkYmQ2MzEwYjJkYTBhNmU5YWVjYzg0MDIxN2U3LzdmOTIwYjI5YTJjMzg2MWE0NzVmMjk2ZDM5N2ZmNjc5NTI4YjA2NGRiYjUxZGViZjMzNTY4YWU1ZjRmN2UwODg%7EcmVzcG9uc2UtY29udGVudC1kaXNwb3NpdGlvbj0qJnJlc3BvbnNlLWNvbnRlbnQtdHlwZT0qIn1dfQ__&Signature=PqD8vOEBqzFTQbPnw39bWY6VBuM9UZnWjhHn4sYwHakq3vbF79jIsNH00v5oB9i40Szckpq6XzBc5QiGXWQ6FMQ6t2tyoHSRILWjleIcYPGD3XJqJjMiEw8K8s-08K2FIgSiA4d8InHwwcYVXEZPwxLBFWt27qxSu1VxlCVG8%7EuQa2D6tAIOe49lRJL2hskYLjy7cnyNj7wGZ6R95pcVcF6xBKuB0YSwajZ6yNuEk4te8-MysUaldzlSGjab10CKAX8NWN72PolxbIq1J4yGO0mG8sqk1JH6wY-2GSbmz8%7EncfAVgWaYPX4GNt4HvlBebwPl2H0WO2xuwLH1pJhG9A__&Key-Pair-Id=K3ESJI6DHPFC7 [following]\n",
            "--2024-06-18 21:25:10--  https://cdn-lfs.huggingface.co/repos/e8/72/e872abef7b2278b5cf6a4f41d1455f5d309cdbd6310b2da0a6e9aecc840217e7/7f920b29a2c3861a475f296d397ff679528b064dbb51debf33568ae5f4f7e088?response-content-disposition=inline%3B+filename*%3DUTF-8%27%27w2v_OA_CR_100d.bin%3B+filename%3D%22w2v_OA_CR_100d.bin%22%3B&response-content-type=application%2Foctet-stream&Expires=1719005110&Policy=eyJTdGF0ZW1lbnQiOlt7IkNvbmRpdGlvbiI6eyJEYXRlTGVzc1RoYW4iOnsiQVdTOkVwb2NoVGltZSI6MTcxOTAwNTExMH19LCJSZXNvdXJjZSI6Imh0dHBzOi8vY2RuLWxmcy5odWdnaW5nZmFjZS5jby9yZXBvcy9lOC83Mi9lODcyYWJlZjdiMjI3OGI1Y2Y2YTRmNDFkMTQ1NWY1ZDMwOWNkYmQ2MzEwYjJkYTBhNmU5YWVjYzg0MDIxN2U3LzdmOTIwYjI5YTJjMzg2MWE0NzVmMjk2ZDM5N2ZmNjc5NTI4YjA2NGRiYjUxZGViZjMzNTY4YWU1ZjRmN2UwODg%7EcmVzcG9uc2UtY29udGVudC1kaXNwb3NpdGlvbj0qJnJlc3BvbnNlLWNvbnRlbnQtdHlwZT0qIn1dfQ__&Signature=PqD8vOEBqzFTQbPnw39bWY6VBuM9UZnWjhHn4sYwHakq3vbF79jIsNH00v5oB9i40Szckpq6XzBc5QiGXWQ6FMQ6t2tyoHSRILWjleIcYPGD3XJqJjMiEw8K8s-08K2FIgSiA4d8InHwwcYVXEZPwxLBFWt27qxSu1VxlCVG8%7EuQa2D6tAIOe49lRJL2hskYLjy7cnyNj7wGZ6R95pcVcF6xBKuB0YSwajZ6yNuEk4te8-MysUaldzlSGjab10CKAX8NWN72PolxbIq1J4yGO0mG8sqk1JH6wY-2GSbmz8%7EncfAVgWaYPX4GNt4HvlBebwPl2H0WO2xuwLH1pJhG9A__&Key-Pair-Id=K3ESJI6DHPFC7\n",
            "Resolving cdn-lfs.huggingface.co (cdn-lfs.huggingface.co)... 13.33.183.73, 13.33.183.3, 13.33.183.109, ...\n",
            "Connecting to cdn-lfs.huggingface.co (cdn-lfs.huggingface.co)|13.33.183.73|:443... connected.\n",
            "HTTP request sent, awaiting response... 200 OK\n",
            "Length: 24237857 (23M) [application/octet-stream]\n",
            "Saving to: ‘w2v_OA_CR_100d.bin’\n",
            "\n",
            "w2v_OA_CR_100d.bin  100%[===================>]  23.11M  8.88MB/s    in 2.6s    \n",
            "\n",
            "2024-06-18 21:25:14 (8.88 MB/s) - ‘w2v_OA_CR_100d.bin’ saved [24237857/24237857]\n",
            "\n",
            "--2024-06-18 21:25:14--  https://huggingface.co/garyw/clinical-embeddings-100d-w2v-cr/resolve/main/w2v_OA_CR_100d.bin.wv.vectors.npy\n",
            "Resolving huggingface.co (huggingface.co)... 54.192.18.37, 54.192.18.10, 54.192.18.113, ...\n",
            "Connecting to huggingface.co (huggingface.co)|54.192.18.37|:443... connected.\n",
            "HTTP request sent, awaiting response... 302 Found\n",
            "Location: https://cdn-lfs.huggingface.co/repos/e8/72/e872abef7b2278b5cf6a4f41d1455f5d309cdbd6310b2da0a6e9aecc840217e7/72926d774155dfaef4763802927a53fa6315afc5ada32b5c797c4c8db9066bf4?response-content-disposition=inline%3B+filename*%3DUTF-8%27%27w2v_OA_CR_100d.bin.wv.vectors.npy%3B+filename%3D%22w2v_OA_CR_100d.bin.wv.vectors.npy%22%3B&Expires=1719005114&Policy=eyJTdGF0ZW1lbnQiOlt7IkNvbmRpdGlvbiI6eyJEYXRlTGVzc1RoYW4iOnsiQVdTOkVwb2NoVGltZSI6MTcxOTAwNTExNH19LCJSZXNvdXJjZSI6Imh0dHBzOi8vY2RuLWxmcy5odWdnaW5nZmFjZS5jby9yZXBvcy9lOC83Mi9lODcyYWJlZjdiMjI3OGI1Y2Y2YTRmNDFkMTQ1NWY1ZDMwOWNkYmQ2MzEwYjJkYTBhNmU5YWVjYzg0MDIxN2U3LzcyOTI2ZDc3NDE1NWRmYWVmNDc2MzgwMjkyN2E1M2ZhNjMxNWFmYzVhZGEzMmI1Yzc5N2M0YzhkYjkwNjZiZjQ%7EcmVzcG9uc2UtY29udGVudC1kaXNwb3NpdGlvbj0qIn1dfQ__&Signature=axfyTeBrq0IFeGQOuJCIhcrbUoel0XmEF0Dmk3ka6f7q-AVEtXFngEffB9Kp0avZlGwFKMkNt8WHTWxJQjVxVEHfF4Vq1Xbh9L9Av-px3NOP56c3LkFCQhHoOI3Yk1CXiC-ujY4siaxt0l1-iKumR5uW4Qi1Z2Qn%7EJmDIRept%7Ei0HAhzyHxvuD0yfcjens%7EqE9dq5DN4zZ1xF6E7%7ErFeQ%7EqcSVEzmt2pxv4FgCpdeLkyzODPFEa%7ExpSbD%7Et9tfyr5nmj3wOJ3k08ExkvhEju6VE5eIiR5v-kjN4CcxK5gpTmdzPlmD0ueaYufW9CZhnM5swidDGTjJMweGeYgGnkLQ__&Key-Pair-Id=K3ESJI6DHPFC7 [following]\n",
            "--2024-06-18 21:25:15--  https://cdn-lfs.huggingface.co/repos/e8/72/e872abef7b2278b5cf6a4f41d1455f5d309cdbd6310b2da0a6e9aecc840217e7/72926d774155dfaef4763802927a53fa6315afc5ada32b5c797c4c8db9066bf4?response-content-disposition=inline%3B+filename*%3DUTF-8%27%27w2v_OA_CR_100d.bin.wv.vectors.npy%3B+filename%3D%22w2v_OA_CR_100d.bin.wv.vectors.npy%22%3B&Expires=1719005114&Policy=eyJTdGF0ZW1lbnQiOlt7IkNvbmRpdGlvbiI6eyJEYXRlTGVzc1RoYW4iOnsiQVdTOkVwb2NoVGltZSI6MTcxOTAwNTExNH19LCJSZXNvdXJjZSI6Imh0dHBzOi8vY2RuLWxmcy5odWdnaW5nZmFjZS5jby9yZXBvcy9lOC83Mi9lODcyYWJlZjdiMjI3OGI1Y2Y2YTRmNDFkMTQ1NWY1ZDMwOWNkYmQ2MzEwYjJkYTBhNmU5YWVjYzg0MDIxN2U3LzcyOTI2ZDc3NDE1NWRmYWVmNDc2MzgwMjkyN2E1M2ZhNjMxNWFmYzVhZGEzMmI1Yzc5N2M0YzhkYjkwNjZiZjQ%7EcmVzcG9uc2UtY29udGVudC1kaXNwb3NpdGlvbj0qIn1dfQ__&Signature=axfyTeBrq0IFeGQOuJCIhcrbUoel0XmEF0Dmk3ka6f7q-AVEtXFngEffB9Kp0avZlGwFKMkNt8WHTWxJQjVxVEHfF4Vq1Xbh9L9Av-px3NOP56c3LkFCQhHoOI3Yk1CXiC-ujY4siaxt0l1-iKumR5uW4Qi1Z2Qn%7EJmDIRept%7Ei0HAhzyHxvuD0yfcjens%7EqE9dq5DN4zZ1xF6E7%7ErFeQ%7EqcSVEzmt2pxv4FgCpdeLkyzODPFEa%7ExpSbD%7Et9tfyr5nmj3wOJ3k08ExkvhEju6VE5eIiR5v-kjN4CcxK5gpTmdzPlmD0ueaYufW9CZhnM5swidDGTjJMweGeYgGnkLQ__&Key-Pair-Id=K3ESJI6DHPFC7\n",
            "Resolving cdn-lfs.huggingface.co (cdn-lfs.huggingface.co)... 13.33.183.73, 13.33.183.3, 13.33.183.109, ...\n",
            "Connecting to cdn-lfs.huggingface.co (cdn-lfs.huggingface.co)|13.33.183.73|:443... connected.\n",
            "HTTP request sent, awaiting response... 200 OK\n",
            "Length: 133344128 (127M) [binary/octet-stream]\n",
            "Saving to: ‘w2v_OA_CR_100d.bin.wv.vectors.npy’\n",
            "\n",
            "w2v_OA_CR_100d.bin. 100%[===================>] 127.17M  17.6MB/s    in 8.6s    \n",
            "\n",
            "2024-06-18 21:25:24 (14.8 MB/s) - ‘w2v_OA_CR_100d.bin.wv.vectors.npy’ saved [133344128/133344128]\n",
            "\n",
            "--2024-06-18 21:25:24--  https://huggingface.co/garyw/clinical-embeddings-100d-w2v-cr/resolve/main/w2v_OA_CR_100d.bin.trainables.syn1neg.npy\n",
            "Resolving huggingface.co (huggingface.co)... 54.192.18.37, 54.192.18.10, 54.192.18.113, ...\n",
            "Connecting to huggingface.co (huggingface.co)|54.192.18.37|:443... connected.\n",
            "HTTP request sent, awaiting response... 302 Found\n",
            "Location: https://cdn-lfs.huggingface.co/repos/e8/72/e872abef7b2278b5cf6a4f41d1455f5d309cdbd6310b2da0a6e9aecc840217e7/db1819eafe7cc01a478aaf2fb7e3fc11bfeca24efafdff879a527e7f34e046e2?response-content-disposition=inline%3B+filename*%3DUTF-8%27%27w2v_OA_CR_100d.bin.trainables.syn1neg.npy%3B+filename%3D%22w2v_OA_CR_100d.bin.trainables.syn1neg.npy%22%3B&Expires=1719005125&Policy=eyJTdGF0ZW1lbnQiOlt7IkNvbmRpdGlvbiI6eyJEYXRlTGVzc1RoYW4iOnsiQVdTOkVwb2NoVGltZSI6MTcxOTAwNTEyNX19LCJSZXNvdXJjZSI6Imh0dHBzOi8vY2RuLWxmcy5odWdnaW5nZmFjZS5jby9yZXBvcy9lOC83Mi9lODcyYWJlZjdiMjI3OGI1Y2Y2YTRmNDFkMTQ1NWY1ZDMwOWNkYmQ2MzEwYjJkYTBhNmU5YWVjYzg0MDIxN2U3L2RiMTgxOWVhZmU3Y2MwMWE0NzhhYWYyZmI3ZTNmYzExYmZlY2EyNGVmYWZkZmY4NzlhNTI3ZTdmMzRlMDQ2ZTI%7EcmVzcG9uc2UtY29udGVudC1kaXNwb3NpdGlvbj0qIn1dfQ__&Signature=VmkTx274CTJfEODa-6TodY5e911w1NpwGcTmmScR7T9hDfaLJW0QDOJNAmeI1ZCNfXVuEV9TkSuvX61kw5lf-PQl2fpb2Gyv6iyl3zkj5HEX1obiwAm8HN24F99sGX8wpf4o8BVD6Xt9UulMkxpaZVENlRO-rIhGKGMKuDxRo6yd0kK6OMaTH5hU2yZkzv%7EorrdzPzbQYJzjSSxuUQ9F49rX-VO3DOPuMDLITpukH-HoeUBXQ2YEB%7E4q6mgcWre0p9lVRaZZoQENO1ZRxLPCxdImBP3eNEdpS5ZDlNXK71WbyvjiLFV34QfC0b4XdL9tmUIVIPEIser1Vhkm7uIfiw__&Key-Pair-Id=K3ESJI6DHPFC7 [following]\n",
            "--2024-06-18 21:25:25--  https://cdn-lfs.huggingface.co/repos/e8/72/e872abef7b2278b5cf6a4f41d1455f5d309cdbd6310b2da0a6e9aecc840217e7/db1819eafe7cc01a478aaf2fb7e3fc11bfeca24efafdff879a527e7f34e046e2?response-content-disposition=inline%3B+filename*%3DUTF-8%27%27w2v_OA_CR_100d.bin.trainables.syn1neg.npy%3B+filename%3D%22w2v_OA_CR_100d.bin.trainables.syn1neg.npy%22%3B&Expires=1719005125&Policy=eyJTdGF0ZW1lbnQiOlt7IkNvbmRpdGlvbiI6eyJEYXRlTGVzc1RoYW4iOnsiQVdTOkVwb2NoVGltZSI6MTcxOTAwNTEyNX19LCJSZXNvdXJjZSI6Imh0dHBzOi8vY2RuLWxmcy5odWdnaW5nZmFjZS5jby9yZXBvcy9lOC83Mi9lODcyYWJlZjdiMjI3OGI1Y2Y2YTRmNDFkMTQ1NWY1ZDMwOWNkYmQ2MzEwYjJkYTBhNmU5YWVjYzg0MDIxN2U3L2RiMTgxOWVhZmU3Y2MwMWE0NzhhYWYyZmI3ZTNmYzExYmZlY2EyNGVmYWZkZmY4NzlhNTI3ZTdmMzRlMDQ2ZTI%7EcmVzcG9uc2UtY29udGVudC1kaXNwb3NpdGlvbj0qIn1dfQ__&Signature=VmkTx274CTJfEODa-6TodY5e911w1NpwGcTmmScR7T9hDfaLJW0QDOJNAmeI1ZCNfXVuEV9TkSuvX61kw5lf-PQl2fpb2Gyv6iyl3zkj5HEX1obiwAm8HN24F99sGX8wpf4o8BVD6Xt9UulMkxpaZVENlRO-rIhGKGMKuDxRo6yd0kK6OMaTH5hU2yZkzv%7EorrdzPzbQYJzjSSxuUQ9F49rX-VO3DOPuMDLITpukH-HoeUBXQ2YEB%7E4q6mgcWre0p9lVRaZZoQENO1ZRxLPCxdImBP3eNEdpS5ZDlNXK71WbyvjiLFV34QfC0b4XdL9tmUIVIPEIser1Vhkm7uIfiw__&Key-Pair-Id=K3ESJI6DHPFC7\n",
            "Resolving cdn-lfs.huggingface.co (cdn-lfs.huggingface.co)... 13.33.183.73, 13.33.183.3, 13.33.183.109, ...\n",
            "Connecting to cdn-lfs.huggingface.co (cdn-lfs.huggingface.co)|13.33.183.73|:443... connected.\n",
            "HTTP request sent, awaiting response... 200 OK\n",
            "Length: 133344128 (127M) [binary/octet-stream]\n",
            "Saving to: ‘w2v_OA_CR_100d.bin.trainables.syn1neg.npy’\n",
            "\n",
            "w2v_OA_CR_100d.bin. 100%[===================>] 127.17M  16.1MB/s    in 22s     \n",
            "\n",
            "2024-06-18 21:25:48 (5.91 MB/s) - ‘w2v_OA_CR_100d.bin.trainables.syn1neg.npy’ saved [133344128/133344128]\n",
            "\n",
            "Collecting fastparquet\n",
            "  Downloading fastparquet-2024.5.0-cp310-cp310-manylinux_2_17_x86_64.manylinux2014_x86_64.whl (1.7 MB)\n",
            "\u001b[2K     \u001b[90m━━━━━━━━━━━━━━━━━━━━━━━━━━━━━━━━━━━━━━━━\u001b[0m \u001b[32m1.7/1.7 MB\u001b[0m \u001b[31m16.8 MB/s\u001b[0m eta \u001b[36m0:00:00\u001b[0m\n",
            "\u001b[?25hRequirement already satisfied: pandas>=1.5.0 in /usr/local/lib/python3.10/dist-packages (from fastparquet) (2.0.3)\n",
            "Requirement already satisfied: numpy in /usr/local/lib/python3.10/dist-packages (from fastparquet) (1.25.2)\n",
            "Collecting cramjam>=2.3 (from fastparquet)\n",
            "  Downloading cramjam-2.8.3-cp310-cp310-manylinux_2_17_x86_64.manylinux2014_x86_64.whl (2.0 MB)\n",
            "\u001b[2K     \u001b[90m━━━━━━━━━━━━━━━━━━━━━━━━━━━━━━━━━━━━━━━━\u001b[0m \u001b[32m2.0/2.0 MB\u001b[0m \u001b[31m66.8 MB/s\u001b[0m eta \u001b[36m0:00:00\u001b[0m\n",
            "\u001b[?25hRequirement already satisfied: fsspec in /usr/local/lib/python3.10/dist-packages (from fastparquet) (2023.6.0)\n",
            "Requirement already satisfied: packaging in /usr/local/lib/python3.10/dist-packages (from fastparquet) (24.1)\n",
            "Requirement already satisfied: python-dateutil>=2.8.2 in /usr/local/lib/python3.10/dist-packages (from pandas>=1.5.0->fastparquet) (2.8.2)\n",
            "Requirement already satisfied: pytz>=2020.1 in /usr/local/lib/python3.10/dist-packages (from pandas>=1.5.0->fastparquet) (2023.4)\n",
            "Requirement already satisfied: tzdata>=2022.1 in /usr/local/lib/python3.10/dist-packages (from pandas>=1.5.0->fastparquet) (2024.1)\n",
            "Requirement already satisfied: six>=1.5 in /usr/local/lib/python3.10/dist-packages (from python-dateutil>=2.8.2->pandas>=1.5.0->fastparquet) (1.16.0)\n",
            "Installing collected packages: cramjam, fastparquet\n",
            "Successfully installed cramjam-2.8.3 fastparquet-2024.5.0\n"
          ]
        }
      ]
    },
    {
      "cell_type": "code",
      "source": [
        "from gensim.models import FastText, Word2Vec, KeyedVectors\n",
        "from transformers import AutoTokenizer, AutoModel, AutoModelForSeq2SeqLM\n",
        "import pandas as pd\n",
        "import numpy as np\n",
        "import torch\n",
        "import torch.nn as nn\n",
        "import torch.optim as optim\n",
        "import torch.nn.functional as F\n",
        "from nltk.stem import WordNetLemmatizer\n",
        "import string\n",
        "import nltk\n",
        "from torch.utils.data import Dataset,DataLoader, random_split\n",
        "import re\n",
        "from numpy import random\n",
        "nltk.download('punkt')\n",
        "nltk.download('wordnet')\n",
        "nltk.download('stopwords')"
      ],
      "metadata": {
        "colab": {
          "base_uri": "https://localhost:8080/"
        },
        "id": "g4U549gMUxaq",
        "outputId": "a0579630-994f-4264-de7b-de6e47b8ebb1"
      },
      "execution_count": 2,
      "outputs": [
        {
          "output_type": "stream",
          "name": "stderr",
          "text": [
            "[nltk_data] Downloading package punkt to /root/nltk_data...\n",
            "[nltk_data]   Unzipping tokenizers/punkt.zip.\n",
            "[nltk_data] Downloading package wordnet to /root/nltk_data...\n",
            "[nltk_data] Downloading package stopwords to /root/nltk_data...\n",
            "[nltk_data]   Unzipping corpora/stopwords.zip.\n"
          ]
        },
        {
          "output_type": "execute_result",
          "data": {
            "text/plain": [
              "True"
            ]
          },
          "metadata": {},
          "execution_count": 2
        }
      ]
    },
    {
      "cell_type": "code",
      "source": [
        "model = Word2Vec.load('w2v_OA_CR_100d.bin')\n",
        "print(model.wv.get_vector('lymphangioleiomyomatosis'))"
      ],
      "metadata": {
        "colab": {
          "base_uri": "https://localhost:8080/"
        },
        "id": "d8cd4dJ5SjJP",
        "outputId": "33aac343-b13d-4d97-a28f-da0c23776e52"
      },
      "execution_count": 3,
      "outputs": [
        {
          "output_type": "stream",
          "name": "stdout",
          "text": [
            "[-0.6044092   0.4017609  -0.717026   -0.2701869  -0.23817156 -0.34242344\n",
            " -0.15332928 -0.11580862 -0.36377856 -0.10749034  0.4498769   0.7072215\n",
            " -0.4689228  -0.48433578  1.050483    0.71655744 -0.6439546  -0.44996452\n",
            " -0.11657333  0.09194979  0.35634688  0.4884644   0.28647774 -0.496315\n",
            " -0.7018925  -0.25540805  0.14061369 -0.8933765  -0.52663106  0.40501425\n",
            "  0.17843099  0.21091795 -0.231396   -0.18487869  0.38206643  0.09275728\n",
            " -0.4573524   0.7668036   0.17861798  0.31376782 -0.49365893 -0.5377006\n",
            "  0.27592292 -0.04515044 -0.23638678 -0.5425362  -0.46474802  0.10646814\n",
            " -0.17016436 -0.07704978  0.17462458  0.27287003  0.5647319   0.1521702\n",
            "  0.1517999   0.2716373   0.21111147 -0.11035519  0.19445771  0.14426446\n",
            "  0.7005133  -0.71069545  0.01735174  0.30701727 -0.54055333 -0.0802884\n",
            " -0.1946127  -0.4616384  -0.4518422  -0.00218993 -0.3471012   0.60170263\n",
            " -0.47892392 -0.04716599  0.07105272  0.35743713 -0.4405513  -0.53299844\n",
            " -0.21108003  0.10141873  0.25599658 -0.22999842  0.21882392  0.50016177\n",
            " -0.234995    0.19636333 -0.29968616 -0.28172144  0.2259699  -0.16643997\n",
            "  0.53825945 -0.4934384  -0.0836745   0.00695672 -0.16958675 -0.17982216\n",
            " -0.23506676  0.22311303 -0.04329611  0.4834013 ]\n"
          ]
        }
      ]
    },
    {
      "cell_type": "code",
      "source": [
        "test_data = pd.read_parquet('test-00000-of-00001-47685aa42db61e77.parquet', engine='fastparquet')\n",
        "train_data = pd.read_parquet('train-00000-of-00001-210cfe9263b99806.parquet', engine='fastparquet')\n",
        "valid_data = pd.read_parquet('valid-00000-of-00001-cc552de6d1a6fa4b.parquet', engine='fastparquet')\n",
        "test_data"
      ],
      "metadata": {
        "colab": {
          "base_uri": "https://localhost:8080/",
          "height": 424
        },
        "id": "JGvsOa32Sn6i",
        "outputId": "548decc8-60be-4810-e297-6d9accf60cb1"
      },
      "execution_count": 4,
      "outputs": [
        {
          "output_type": "execute_result",
          "data": {
            "text/plain": [
              "              id                                              query  \\\n",
              "0        MedNLI0  \\nTASK: Please classify the relationship betwe...   \n",
              "1        MedNLI1  \\nTASK: Please classify the relationship betwe...   \n",
              "2        MedNLI2  \\nTASK: Please classify the relationship betwe...   \n",
              "3        MedNLI3  \\nTASK: Please classify the relationship betwe...   \n",
              "4        MedNLI4  \\nTASK: Please classify the relationship betwe...   \n",
              "...          ...                                                ...   \n",
              "1417  MedNLI1417  \\nTASK: Please classify the relationship betwe...   \n",
              "1418  MedNLI1418  \\nTASK: Please classify the relationship betwe...   \n",
              "1419  MedNLI1419  \\nTASK: Please classify the relationship betwe...   \n",
              "1420  MedNLI1420  \\nTASK: Please classify the relationship betwe...   \n",
              "1421  MedNLI1421  \\nTASK: Please classify the relationship betwe...   \n",
              "\n",
              "             answer                               choices  gold  \n",
              "0        entailment  [entailment, contradiction, neutral]     0  \n",
              "1     contradiction  [entailment, contradiction, neutral]     1  \n",
              "2           neutral  [entailment, contradiction, neutral]     2  \n",
              "3        entailment  [entailment, contradiction, neutral]     0  \n",
              "4     contradiction  [entailment, contradiction, neutral]     1  \n",
              "...             ...                                   ...   ...  \n",
              "1417  contradiction  [entailment, contradiction, neutral]     1  \n",
              "1418        neutral  [entailment, contradiction, neutral]     2  \n",
              "1419     entailment  [entailment, contradiction, neutral]     0  \n",
              "1420  contradiction  [entailment, contradiction, neutral]     1  \n",
              "1421        neutral  [entailment, contradiction, neutral]     2  \n",
              "\n",
              "[1422 rows x 5 columns]"
            ],
            "text/html": [
              "\n",
              "  <div id=\"df-d79001ba-f2b3-4d21-bbb1-8c4947b4afc2\" class=\"colab-df-container\">\n",
              "    <div>\n",
              "<style scoped>\n",
              "    .dataframe tbody tr th:only-of-type {\n",
              "        vertical-align: middle;\n",
              "    }\n",
              "\n",
              "    .dataframe tbody tr th {\n",
              "        vertical-align: top;\n",
              "    }\n",
              "\n",
              "    .dataframe thead th {\n",
              "        text-align: right;\n",
              "    }\n",
              "</style>\n",
              "<table border=\"1\" class=\"dataframe\">\n",
              "  <thead>\n",
              "    <tr style=\"text-align: right;\">\n",
              "      <th></th>\n",
              "      <th>id</th>\n",
              "      <th>query</th>\n",
              "      <th>answer</th>\n",
              "      <th>choices</th>\n",
              "      <th>gold</th>\n",
              "    </tr>\n",
              "  </thead>\n",
              "  <tbody>\n",
              "    <tr>\n",
              "      <th>0</th>\n",
              "      <td>MedNLI0</td>\n",
              "      <td>\\nTASK: Please classify the relationship betwe...</td>\n",
              "      <td>entailment</td>\n",
              "      <td>[entailment, contradiction, neutral]</td>\n",
              "      <td>0</td>\n",
              "    </tr>\n",
              "    <tr>\n",
              "      <th>1</th>\n",
              "      <td>MedNLI1</td>\n",
              "      <td>\\nTASK: Please classify the relationship betwe...</td>\n",
              "      <td>contradiction</td>\n",
              "      <td>[entailment, contradiction, neutral]</td>\n",
              "      <td>1</td>\n",
              "    </tr>\n",
              "    <tr>\n",
              "      <th>2</th>\n",
              "      <td>MedNLI2</td>\n",
              "      <td>\\nTASK: Please classify the relationship betwe...</td>\n",
              "      <td>neutral</td>\n",
              "      <td>[entailment, contradiction, neutral]</td>\n",
              "      <td>2</td>\n",
              "    </tr>\n",
              "    <tr>\n",
              "      <th>3</th>\n",
              "      <td>MedNLI3</td>\n",
              "      <td>\\nTASK: Please classify the relationship betwe...</td>\n",
              "      <td>entailment</td>\n",
              "      <td>[entailment, contradiction, neutral]</td>\n",
              "      <td>0</td>\n",
              "    </tr>\n",
              "    <tr>\n",
              "      <th>4</th>\n",
              "      <td>MedNLI4</td>\n",
              "      <td>\\nTASK: Please classify the relationship betwe...</td>\n",
              "      <td>contradiction</td>\n",
              "      <td>[entailment, contradiction, neutral]</td>\n",
              "      <td>1</td>\n",
              "    </tr>\n",
              "    <tr>\n",
              "      <th>...</th>\n",
              "      <td>...</td>\n",
              "      <td>...</td>\n",
              "      <td>...</td>\n",
              "      <td>...</td>\n",
              "      <td>...</td>\n",
              "    </tr>\n",
              "    <tr>\n",
              "      <th>1417</th>\n",
              "      <td>MedNLI1417</td>\n",
              "      <td>\\nTASK: Please classify the relationship betwe...</td>\n",
              "      <td>contradiction</td>\n",
              "      <td>[entailment, contradiction, neutral]</td>\n",
              "      <td>1</td>\n",
              "    </tr>\n",
              "    <tr>\n",
              "      <th>1418</th>\n",
              "      <td>MedNLI1418</td>\n",
              "      <td>\\nTASK: Please classify the relationship betwe...</td>\n",
              "      <td>neutral</td>\n",
              "      <td>[entailment, contradiction, neutral]</td>\n",
              "      <td>2</td>\n",
              "    </tr>\n",
              "    <tr>\n",
              "      <th>1419</th>\n",
              "      <td>MedNLI1419</td>\n",
              "      <td>\\nTASK: Please classify the relationship betwe...</td>\n",
              "      <td>entailment</td>\n",
              "      <td>[entailment, contradiction, neutral]</td>\n",
              "      <td>0</td>\n",
              "    </tr>\n",
              "    <tr>\n",
              "      <th>1420</th>\n",
              "      <td>MedNLI1420</td>\n",
              "      <td>\\nTASK: Please classify the relationship betwe...</td>\n",
              "      <td>contradiction</td>\n",
              "      <td>[entailment, contradiction, neutral]</td>\n",
              "      <td>1</td>\n",
              "    </tr>\n",
              "    <tr>\n",
              "      <th>1421</th>\n",
              "      <td>MedNLI1421</td>\n",
              "      <td>\\nTASK: Please classify the relationship betwe...</td>\n",
              "      <td>neutral</td>\n",
              "      <td>[entailment, contradiction, neutral]</td>\n",
              "      <td>2</td>\n",
              "    </tr>\n",
              "  </tbody>\n",
              "</table>\n",
              "<p>1422 rows × 5 columns</p>\n",
              "</div>\n",
              "    <div class=\"colab-df-buttons\">\n",
              "\n",
              "  <div class=\"colab-df-container\">\n",
              "    <button class=\"colab-df-convert\" onclick=\"convertToInteractive('df-d79001ba-f2b3-4d21-bbb1-8c4947b4afc2')\"\n",
              "            title=\"Convert this dataframe to an interactive table.\"\n",
              "            style=\"display:none;\">\n",
              "\n",
              "  <svg xmlns=\"http://www.w3.org/2000/svg\" height=\"24px\" viewBox=\"0 -960 960 960\">\n",
              "    <path d=\"M120-120v-720h720v720H120Zm60-500h600v-160H180v160Zm220 220h160v-160H400v160Zm0 220h160v-160H400v160ZM180-400h160v-160H180v160Zm440 0h160v-160H620v160ZM180-180h160v-160H180v160Zm440 0h160v-160H620v160Z\"/>\n",
              "  </svg>\n",
              "    </button>\n",
              "\n",
              "  <style>\n",
              "    .colab-df-container {\n",
              "      display:flex;\n",
              "      gap: 12px;\n",
              "    }\n",
              "\n",
              "    .colab-df-convert {\n",
              "      background-color: #E8F0FE;\n",
              "      border: none;\n",
              "      border-radius: 50%;\n",
              "      cursor: pointer;\n",
              "      display: none;\n",
              "      fill: #1967D2;\n",
              "      height: 32px;\n",
              "      padding: 0 0 0 0;\n",
              "      width: 32px;\n",
              "    }\n",
              "\n",
              "    .colab-df-convert:hover {\n",
              "      background-color: #E2EBFA;\n",
              "      box-shadow: 0px 1px 2px rgba(60, 64, 67, 0.3), 0px 1px 3px 1px rgba(60, 64, 67, 0.15);\n",
              "      fill: #174EA6;\n",
              "    }\n",
              "\n",
              "    .colab-df-buttons div {\n",
              "      margin-bottom: 4px;\n",
              "    }\n",
              "\n",
              "    [theme=dark] .colab-df-convert {\n",
              "      background-color: #3B4455;\n",
              "      fill: #D2E3FC;\n",
              "    }\n",
              "\n",
              "    [theme=dark] .colab-df-convert:hover {\n",
              "      background-color: #434B5C;\n",
              "      box-shadow: 0px 1px 3px 1px rgba(0, 0, 0, 0.15);\n",
              "      filter: drop-shadow(0px 1px 2px rgba(0, 0, 0, 0.3));\n",
              "      fill: #FFFFFF;\n",
              "    }\n",
              "  </style>\n",
              "\n",
              "    <script>\n",
              "      const buttonEl =\n",
              "        document.querySelector('#df-d79001ba-f2b3-4d21-bbb1-8c4947b4afc2 button.colab-df-convert');\n",
              "      buttonEl.style.display =\n",
              "        google.colab.kernel.accessAllowed ? 'block' : 'none';\n",
              "\n",
              "      async function convertToInteractive(key) {\n",
              "        const element = document.querySelector('#df-d79001ba-f2b3-4d21-bbb1-8c4947b4afc2');\n",
              "        const dataTable =\n",
              "          await google.colab.kernel.invokeFunction('convertToInteractive',\n",
              "                                                    [key], {});\n",
              "        if (!dataTable) return;\n",
              "\n",
              "        const docLinkHtml = 'Like what you see? Visit the ' +\n",
              "          '<a target=\"_blank\" href=https://colab.research.google.com/notebooks/data_table.ipynb>data table notebook</a>'\n",
              "          + ' to learn more about interactive tables.';\n",
              "        element.innerHTML = '';\n",
              "        dataTable['output_type'] = 'display_data';\n",
              "        await google.colab.output.renderOutput(dataTable, element);\n",
              "        const docLink = document.createElement('div');\n",
              "        docLink.innerHTML = docLinkHtml;\n",
              "        element.appendChild(docLink);\n",
              "      }\n",
              "    </script>\n",
              "  </div>\n",
              "\n",
              "\n",
              "<div id=\"df-2182b159-2e9c-4d5c-834a-f6b0c184f7a2\">\n",
              "  <button class=\"colab-df-quickchart\" onclick=\"quickchart('df-2182b159-2e9c-4d5c-834a-f6b0c184f7a2')\"\n",
              "            title=\"Suggest charts\"\n",
              "            style=\"display:none;\">\n",
              "\n",
              "<svg xmlns=\"http://www.w3.org/2000/svg\" height=\"24px\"viewBox=\"0 0 24 24\"\n",
              "     width=\"24px\">\n",
              "    <g>\n",
              "        <path d=\"M19 3H5c-1.1 0-2 .9-2 2v14c0 1.1.9 2 2 2h14c1.1 0 2-.9 2-2V5c0-1.1-.9-2-2-2zM9 17H7v-7h2v7zm4 0h-2V7h2v10zm4 0h-2v-4h2v4z\"/>\n",
              "    </g>\n",
              "</svg>\n",
              "  </button>\n",
              "\n",
              "<style>\n",
              "  .colab-df-quickchart {\n",
              "      --bg-color: #E8F0FE;\n",
              "      --fill-color: #1967D2;\n",
              "      --hover-bg-color: #E2EBFA;\n",
              "      --hover-fill-color: #174EA6;\n",
              "      --disabled-fill-color: #AAA;\n",
              "      --disabled-bg-color: #DDD;\n",
              "  }\n",
              "\n",
              "  [theme=dark] .colab-df-quickchart {\n",
              "      --bg-color: #3B4455;\n",
              "      --fill-color: #D2E3FC;\n",
              "      --hover-bg-color: #434B5C;\n",
              "      --hover-fill-color: #FFFFFF;\n",
              "      --disabled-bg-color: #3B4455;\n",
              "      --disabled-fill-color: #666;\n",
              "  }\n",
              "\n",
              "  .colab-df-quickchart {\n",
              "    background-color: var(--bg-color);\n",
              "    border: none;\n",
              "    border-radius: 50%;\n",
              "    cursor: pointer;\n",
              "    display: none;\n",
              "    fill: var(--fill-color);\n",
              "    height: 32px;\n",
              "    padding: 0;\n",
              "    width: 32px;\n",
              "  }\n",
              "\n",
              "  .colab-df-quickchart:hover {\n",
              "    background-color: var(--hover-bg-color);\n",
              "    box-shadow: 0 1px 2px rgba(60, 64, 67, 0.3), 0 1px 3px 1px rgba(60, 64, 67, 0.15);\n",
              "    fill: var(--button-hover-fill-color);\n",
              "  }\n",
              "\n",
              "  .colab-df-quickchart-complete:disabled,\n",
              "  .colab-df-quickchart-complete:disabled:hover {\n",
              "    background-color: var(--disabled-bg-color);\n",
              "    fill: var(--disabled-fill-color);\n",
              "    box-shadow: none;\n",
              "  }\n",
              "\n",
              "  .colab-df-spinner {\n",
              "    border: 2px solid var(--fill-color);\n",
              "    border-color: transparent;\n",
              "    border-bottom-color: var(--fill-color);\n",
              "    animation:\n",
              "      spin 1s steps(1) infinite;\n",
              "  }\n",
              "\n",
              "  @keyframes spin {\n",
              "    0% {\n",
              "      border-color: transparent;\n",
              "      border-bottom-color: var(--fill-color);\n",
              "      border-left-color: var(--fill-color);\n",
              "    }\n",
              "    20% {\n",
              "      border-color: transparent;\n",
              "      border-left-color: var(--fill-color);\n",
              "      border-top-color: var(--fill-color);\n",
              "    }\n",
              "    30% {\n",
              "      border-color: transparent;\n",
              "      border-left-color: var(--fill-color);\n",
              "      border-top-color: var(--fill-color);\n",
              "      border-right-color: var(--fill-color);\n",
              "    }\n",
              "    40% {\n",
              "      border-color: transparent;\n",
              "      border-right-color: var(--fill-color);\n",
              "      border-top-color: var(--fill-color);\n",
              "    }\n",
              "    60% {\n",
              "      border-color: transparent;\n",
              "      border-right-color: var(--fill-color);\n",
              "    }\n",
              "    80% {\n",
              "      border-color: transparent;\n",
              "      border-right-color: var(--fill-color);\n",
              "      border-bottom-color: var(--fill-color);\n",
              "    }\n",
              "    90% {\n",
              "      border-color: transparent;\n",
              "      border-bottom-color: var(--fill-color);\n",
              "    }\n",
              "  }\n",
              "</style>\n",
              "\n",
              "  <script>\n",
              "    async function quickchart(key) {\n",
              "      const quickchartButtonEl =\n",
              "        document.querySelector('#' + key + ' button');\n",
              "      quickchartButtonEl.disabled = true;  // To prevent multiple clicks.\n",
              "      quickchartButtonEl.classList.add('colab-df-spinner');\n",
              "      try {\n",
              "        const charts = await google.colab.kernel.invokeFunction(\n",
              "            'suggestCharts', [key], {});\n",
              "      } catch (error) {\n",
              "        console.error('Error during call to suggestCharts:', error);\n",
              "      }\n",
              "      quickchartButtonEl.classList.remove('colab-df-spinner');\n",
              "      quickchartButtonEl.classList.add('colab-df-quickchart-complete');\n",
              "    }\n",
              "    (() => {\n",
              "      let quickchartButtonEl =\n",
              "        document.querySelector('#df-2182b159-2e9c-4d5c-834a-f6b0c184f7a2 button');\n",
              "      quickchartButtonEl.style.display =\n",
              "        google.colab.kernel.accessAllowed ? 'block' : 'none';\n",
              "    })();\n",
              "  </script>\n",
              "</div>\n",
              "    </div>\n",
              "  </div>\n"
            ],
            "application/vnd.google.colaboratory.intrinsic+json": {
              "type": "dataframe",
              "variable_name": "test_data",
              "summary": "{\n  \"name\": \"test_data\",\n  \"rows\": 1422,\n  \"fields\": [\n    {\n      \"column\": \"id\",\n      \"properties\": {\n        \"dtype\": \"string\",\n        \"num_unique_values\": 1422,\n        \"samples\": [\n          \"MedNLI70\",\n          \"MedNLI1083\",\n          \"MedNLI613\"\n        ],\n        \"semantic_type\": \"\",\n        \"description\": \"\"\n      }\n    },\n    {\n      \"column\": \"query\",\n      \"properties\": {\n        \"dtype\": \"string\",\n        \"num_unique_values\": 1421,\n        \"samples\": [\n          \"\\nTASK: Please classify the relationship between the given premise and hypothesis into one of the following labels: entailment, contradiction, or neutral. Return only the label.\\n###\\nINPUT: [PRE] Liver failure- hx of encephalopathy, no bx seen in records DM type 2- non insulin dependent CHF Elevated PSA Pancreatitis Postive PPD Alcoholic cardiomyopathy [HYP]  The patient has multiple co-morbidities. \\nOUTPUT:\\n\",\n          \"\\nTASK: Please classify the relationship between the given premise and hypothesis into one of the following labels: entailment, contradiction, or neutral. Return only the label.\\n###\\nINPUT: [PRE] He was warmed, dried and stimulated. [HYP]  the patient was cooled\\nOUTPUT:\\n\",\n          \"\\nTASK: Please classify the relationship between the given premise and hypothesis into one of the following labels: entailment, contradiction, or neutral. Return only the label.\\n###\\nINPUT: [PRE] An emergent Hematology consultation was obtained. [HYP]  the patient has heparin induced thrombocytopenia\\nOUTPUT:\\n\"\n        ],\n        \"semantic_type\": \"\",\n        \"description\": \"\"\n      }\n    },\n    {\n      \"column\": \"answer\",\n      \"properties\": {\n        \"dtype\": \"category\",\n        \"num_unique_values\": 3,\n        \"samples\": [\n          \"entailment\",\n          \"contradiction\",\n          \"neutral\"\n        ],\n        \"semantic_type\": \"\",\n        \"description\": \"\"\n      }\n    },\n    {\n      \"column\": \"choices\",\n      \"properties\": {\n        \"dtype\": \"object\",\n        \"semantic_type\": \"\",\n        \"description\": \"\"\n      }\n    },\n    {\n      \"column\": \"gold\",\n      \"properties\": {\n        \"dtype\": \"number\",\n        \"std\": 0,\n        \"min\": 0,\n        \"max\": 2,\n        \"num_unique_values\": 3,\n        \"samples\": [\n          0,\n          1,\n          2\n        ],\n        \"semantic_type\": \"\",\n        \"description\": \"\"\n      }\n    }\n  ]\n}"
            }
          },
          "metadata": {},
          "execution_count": 4
        }
      ]
    },
    {
      "cell_type": "code",
      "source": [
        "def find_pre_and_hyp(query):\n",
        "    start_pre = query.find(\"[PRE]\") + len(\"[PRE]\")\n",
        "    end_pre = query.find(\"[HYP]\")\n",
        "    start_hyp = query.find(\"[HYP]\") + len(\"[HYP]\")\n",
        "    end_hyp = query.find(\"OUTPUT:\")\n",
        "    premise = query[start_pre:end_pre].strip()\n",
        "    hypothesis = query[start_hyp:end_hyp].strip()\n",
        "\n",
        "    return premise,hypothesis"
      ],
      "metadata": {
        "id": "zAOG_7ugVWWe"
      },
      "execution_count": 5,
      "outputs": []
    },
    {
      "cell_type": "code",
      "source": [
        "premise_texts_tokens = []\n",
        "hypothesis_texts_tokens = []\n",
        "lemmatizer = WordNetLemmatizer()\n",
        "for query,answer in zip(train_data['query'],train_data['answer']):\n",
        "    premise,hypothesis = find_pre_and_hyp(query)\n",
        "\n",
        "    premise = premise.replace('-','')\n",
        "    hypothesis = hypothesis.replace('-','')\n",
        "    #premise = re.sub\n",
        "    hypothesis = 'start ' + hypothesis\n",
        "\n",
        "    tokens_premise = nltk.word_tokenize(premise)\n",
        "    tokens_hypothesis = nltk.word_tokenize(hypothesis)\n",
        "\n",
        "    tokens_premise = [lemmatizer.lemmatize(token.lower()) for token in tokens_premise if token not in string.punctuation]\n",
        "    tokens_hypothesis = [lemmatizer.lemmatize(token.lower()) for token in tokens_hypothesis if token not in string.punctuation]\n",
        "\n",
        "    premise_texts_tokens.append(tokens_premise)\n",
        "    hypothesis_texts_tokens.append(tokens_hypothesis)"
      ],
      "metadata": {
        "id": "cXVtWIicXn5C"
      },
      "execution_count": 6,
      "outputs": []
    },
    {
      "cell_type": "code",
      "source": [
        "def get_vectors_of_given_word(word):\n",
        "    try:\n",
        "       return model.wv.get_vector(word)\n",
        "    except:\n",
        "       return random.uniform(-1,1,size=(100,))\n",
        "       #return None"
      ],
      "metadata": {
        "id": "glXbfkYGzsNq"
      },
      "execution_count": 7,
      "outputs": []
    },
    {
      "cell_type": "code",
      "source": [
        "x_premise_arr = []\n",
        "max_len = 0\n",
        "for text in premise_texts_tokens:\n",
        "    x = np.empty((0,100))\n",
        "    for word in text:\n",
        "        vectors = get_vectors_of_given_word(word)\n",
        "        vectors_np = np.array(vectors)\n",
        "        x = np.vstack([x, vectors_np])\n",
        "    if max_len < x.shape[0]:\n",
        "         max_len = x.shape[0]\n",
        "    x_premise_arr.append(x)"
      ],
      "metadata": {
        "id": "pO-V9Z5uwVPd"
      },
      "execution_count": 8,
      "outputs": []
    },
    {
      "cell_type": "code",
      "source": [
        "x_hypothesis_arr = []\n",
        "for text in hypothesis_texts_tokens:\n",
        "    x = np.empty((0,100))\n",
        "    for word in text:\n",
        "        vectors = get_vectors_of_given_word(word)\n",
        "        vectors_np = np.array(vectors)\n",
        "        x = np.vstack([x, vectors_np])\n",
        "    if max_len < x.shape[0]:\n",
        "         max_len = x.shape[0]\n",
        "    x_hypothesis_arr.append(x)"
      ],
      "metadata": {
        "id": "w0DUUgmM4mI6"
      },
      "execution_count": 9,
      "outputs": []
    },
    {
      "cell_type": "code",
      "source": [
        "y_arr = []\n",
        "for query,answer in zip(train_data['query'],train_data['answer']):\n",
        "    if answer == 'entailment':\n",
        "       y = [1,0,0]\n",
        "    elif answer == 'neutral':\n",
        "       y = [0,1,0]\n",
        "    elif answer == 'contradiction':\n",
        "       y = [0,0,1]\n",
        "    else:\n",
        "        print('should not get here')\n",
        "    y_arr.append(y)\n",
        "\n",
        "    #premise,hypothesis = find_pre_and_hyp(query)"
      ],
      "metadata": {
        "id": "HOc3l3S5VgJd"
      },
      "execution_count": 10,
      "outputs": []
    },
    {
      "cell_type": "code",
      "source": [
        "for x_premise in x_premise_arr:\n",
        "    if x_premise.shape[0] == 0:\n",
        "       print(x_premise.shape)"
      ],
      "metadata": {
        "id": "AabcwWXxNCDI"
      },
      "execution_count": 11,
      "outputs": []
    },
    {
      "cell_type": "code",
      "source": [
        "for x_hypothesis in x_hypothesis_arr:\n",
        "    if x_hypothesis.shape[0] == 0:\n",
        "       print(x_hypothesis.shape)"
      ],
      "metadata": {
        "id": "jiE_7rMfNmm1"
      },
      "execution_count": 12,
      "outputs": []
    },
    {
      "cell_type": "code",
      "source": [
        "print(len(x_hypothesis_arr))\n",
        "print(len(x_premise_arr))\n",
        "print(len(y_arr))"
      ],
      "metadata": {
        "colab": {
          "base_uri": "https://localhost:8080/"
        },
        "id": "IDOk7q4SQhgU",
        "outputId": "efcc1123-8555-4f8a-9b0b-99d16b9a36c1"
      },
      "execution_count": 13,
      "outputs": [
        {
          "output_type": "stream",
          "name": "stdout",
          "text": [
            "11232\n",
            "11232\n",
            "11232\n"
          ]
        }
      ]
    },
    {
      "cell_type": "code",
      "source": [
        "class CustomDataset(Dataset):\n",
        "    def __init__(self, x_hypothesis_arr , x_premise_arr, y_list):\n",
        "        self.samples = []\n",
        "        while x_premise_arr:\n",
        "            x_pre = x_premise_arr.pop()\n",
        "            x_hyp = x_hypothesis_arr.pop()\n",
        "            y = y_list.pop()\n",
        "            x_pre_tensor = torch.tensor(x_pre,dtype = torch.float32)#.cuda()\n",
        "            x_hyp_tensor = torch.tensor(x_hyp,dtype = torch.float32)#.cuda()\n",
        "            y_tensor = torch.tensor(y,dtype = torch.float32)#.cuda()\n",
        "            self.samples.append((x_pre_tensor,x_hyp_tensor,y_tensor))\n",
        "\n",
        "    def __len__(self):\n",
        "        return len(self.samples)\n",
        "\n",
        "    def __getitem__(self, idx):\n",
        "        return self.samples[idx]"
      ],
      "metadata": {
        "id": "HuokVP6zU6yZ"
      },
      "execution_count": 14,
      "outputs": []
    },
    {
      "cell_type": "code",
      "source": [
        "train_dataset = CustomDataset(x_hypothesis_arr , x_premise_arr, y_arr)"
      ],
      "metadata": {
        "id": "2xBvI_jmU8P_"
      },
      "execution_count": 15,
      "outputs": []
    },
    {
      "cell_type": "code",
      "source": [
        "def get_maxlen(batch,i):\n",
        "    maxlen = 0\n",
        "    for tensr in batch:\n",
        "        if tensr[i].shape[0] > maxlen :\n",
        "           maxlen = tensr[i].shape[0]\n",
        "    return maxlen"
      ],
      "metadata": {
        "id": "TpVQopaeZbm-"
      },
      "execution_count": 16,
      "outputs": []
    },
    {
      "cell_type": "code",
      "source": [
        "def collate_fn(batch):\n",
        "    x_pres = []\n",
        "    x_hyps = []\n",
        "    ys = []\n",
        "    pre_max_len = get_maxlen(batch,0)\n",
        "    hyp_max_len = get_maxlen(batch,1)\n",
        "    for tensr in batch:\n",
        "        x_pre_tensor = tensr[0]\n",
        "        x_hyp_tensor = tensr[1]\n",
        "        y_tensor = tensr[2]\n",
        "        pre_pad_width = pre_max_len - x_pre_tensor.shape[0]\n",
        "        pre_leftpad_width = pre_pad_width // 2\n",
        "        pre_rightpad_width = pre_pad_width - pre_leftpad_width\n",
        "        pre_p1d = (0,0,pre_leftpad_width,pre_rightpad_width)\n",
        "        paded_x_pre_tensor = F.pad(x_pre_tensor,pre_p1d,\"constant\",0)\n",
        "        x_pres.append(paded_x_pre_tensor)\n",
        "        hyp_pad_width = hyp_max_len - x_hyp_tensor.shape[0]\n",
        "        hyp_leftpad_width = hyp_pad_width // 2\n",
        "        hyp_rightpad_width = hyp_pad_width - hyp_leftpad_width\n",
        "        hyp_p1d = (0,0,hyp_leftpad_width,hyp_rightpad_width)\n",
        "        paded_x_hyp_tensor = F.pad(x_hyp_tensor,hyp_p1d,\"constant\",0)\n",
        "        x_hyps.append(paded_x_hyp_tensor)\n",
        "        ys.append(y_tensor)\n",
        "    X_pre = torch.stack(x_pres,dim=0)\n",
        "    X_hyp = torch.stack(x_hyps,dim=0)\n",
        "    Y = torch.stack(ys,dim=0)\n",
        "    return [X_pre,X_hyp,Y]"
      ],
      "metadata": {
        "id": "TLqieYUPZgvc"
      },
      "execution_count": 170,
      "outputs": []
    },
    {
      "cell_type": "code",
      "source": [
        "bsize = 512\n",
        "train_loader = DataLoader(train_dataset, batch_size=bsize,collate_fn=collate_fn, shuffle=True)\n",
        "#test_loader = DataLoader(test_dataset, batch_size=1,collate_fn=collate_fn, shuffle=False)"
      ],
      "metadata": {
        "id": "txoKxQVXavly"
      },
      "execution_count": 171,
      "outputs": []
    },
    {
      "cell_type": "code",
      "source": [
        "class NN(nn.Module):\n",
        "    def __init__(self):\n",
        "        super(NN, self).__init__()\n",
        "        self.lstm1 = nn.LSTM(100, 20, 1,batch_first = True)\n",
        "        self.lstm2 = nn.LSTM(100, 20, 1,batch_first = True)\n",
        "        self.fc1 = nn.Linear(20, 3)\n",
        "\n",
        "    def forward(self,x_pre,x_hyp):\n",
        "        #xpre_h0 = torch.zeros(1, bsize, 20)\n",
        "        #xpre_c0 = torch.zeros(1, bsize, 20)\n",
        "        output, (hn, cn) = self.lstm1(x_pre)\n",
        "\n",
        "        xhyp_h0 = hn\n",
        "        xhyp_c0 = cn\n",
        "        output, (hn, cn) = self.lstm1(x_hyp, (xhyp_h0, xhyp_c0))\n",
        "        a = self.fc1(hn)\n",
        "        #print(a.shape)\n",
        "        x = a.reshape([a.shape[1],a.shape[2]])\n",
        "        #print(x.shape)\n",
        "        x = nn.functional.softmax(x)\n",
        "        return x"
      ],
      "metadata": {
        "id": "jHeUtJrubFkV"
      },
      "execution_count": 172,
      "outputs": []
    },
    {
      "cell_type": "code",
      "source": [
        "device = 'cuda' if torch.cuda.is_available() else 'cpu'\n",
        "model = NN()\n",
        "model.to(device)\n",
        "criterion = nn.CrossEntropyLoss()\n",
        "optimizer = optim.Adam(model.parameters(), lr=0.001)"
      ],
      "metadata": {
        "id": "jNNDSadkbI7G"
      },
      "execution_count": 173,
      "outputs": []
    },
    {
      "cell_type": "code",
      "source": [
        "model.train()\n",
        "num_epochs = 50\n",
        "for epoch in range(num_epochs):\n",
        "    for x_pre, x_hyp,y in train_loader:\n",
        "        optimizer.zero_grad()\n",
        "        outputs = model(x_pre,x_hyp)\n",
        "        #print(outputs)\n",
        "        #print(y)\n",
        "        #print(outputs.shape)\n",
        "        #print(y.shape)\n",
        "        loss = criterion(outputs, y)\n",
        "        #print('==================================================')\n",
        "        loss.backward()\n",
        "        optimizer.step()\n",
        "\n",
        "        #for name, param in model.named_parameters():\n",
        "            #if param.grad is not None:\n",
        "                #print(f\"Gradient of {name}:\")\n",
        "                #print(param.grad)\n",
        "\n",
        "        #if (i+1) % 100 == 0:\n",
        "            #print(f'Epoch [{epoch+1}/{num_epochs}], Step [{i+1}/{len(train_loader)}], Loss: {loss.item()}')\n",
        "    print(loss.item())\n",
        "\n",
        "print('Training complete.')"
      ],
      "metadata": {
        "colab": {
          "base_uri": "https://localhost:8080/"
        },
        "id": "vQqpFvE5bNc4",
        "outputId": "0d673d40-9379-4989-b34d-933ca1176626"
      },
      "execution_count": 174,
      "outputs": [
        {
          "output_type": "stream",
          "name": "stderr",
          "text": [
            "<ipython-input-172-f48a91d194e6>:20: UserWarning: Implicit dimension choice for softmax has been deprecated. Change the call to include dim=X as an argument.\n",
            "  x = nn.functional.softmax(x)\n"
          ]
        },
        {
          "output_type": "stream",
          "name": "stdout",
          "text": [
            "1.0973619222640991\n",
            "1.0830283164978027\n",
            "1.0495167970657349\n",
            "0.9981504082679749\n",
            "0.967770516872406\n",
            "0.9494197368621826\n",
            "0.9471912384033203\n",
            "0.9629036784172058\n",
            "0.9347978830337524\n",
            "0.9527467489242554\n",
            "0.9331366419792175\n",
            "0.9038905501365662\n",
            "0.9047082662582397\n",
            "0.9223946332931519\n",
            "0.9166706800460815\n",
            "0.8896294236183167\n",
            "0.9228702783584595\n",
            "0.9342840909957886\n",
            "0.9054978489875793\n",
            "0.9053681492805481\n",
            "0.9105116724967957\n",
            "0.8892166018486023\n",
            "0.9000357389450073\n",
            "0.9123252630233765\n",
            "0.8893177509307861\n",
            "0.8792946934700012\n",
            "0.8913494944572449\n",
            "0.8755102753639221\n",
            "0.8810515999794006\n",
            "0.8788360357284546\n",
            "0.8704883456230164\n",
            "0.8633061647415161\n",
            "0.8842135071754456\n",
            "0.8776372075080872\n",
            "0.8761492371559143\n",
            "0.8317888975143433\n",
            "0.8817338347434998\n",
            "0.8675546050071716\n",
            "0.8901960849761963\n",
            "0.9025231599807739\n",
            "0.8466488122940063\n",
            "0.8622628450393677\n",
            "0.8611946702003479\n",
            "0.8774322271347046\n",
            "0.9048840403556824\n",
            "0.87325519323349\n",
            "0.8587046265602112\n",
            "0.8691462874412537\n",
            "0.8471463918685913\n",
            "0.8283083438873291\n",
            "Training complete.\n"
          ]
        }
      ]
    },
    {
      "cell_type": "code",
      "source": [
        "torch.save(model,'m.pth')"
      ],
      "metadata": {
        "id": "IRXomBsr4kaM"
      },
      "execution_count": 195,
      "outputs": []
    }
  ]
}