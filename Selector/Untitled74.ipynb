{
  "cells": [
    {
      "cell_type": "code",
      "execution_count": null,
      "metadata": {
        "colab": {
          "base_uri": "https://localhost:8080/"
        },
        "id": "FjQJ4IxIVbSC",
        "outputId": "546c969a-4540-4dda-af0e-13e96d64f489"
      },
      "outputs": [
        {
          "name": "stdout",
          "output_type": "stream",
          "text": [
            "Collecting fasttext\n",
            "  Downloading fasttext-0.9.3.tar.gz (73 kB)\n",
            "\u001b[?25l     \u001b[90m━━━━━━━━━━━━━━━━━━━━━━━━━━━━━━━━━━━━━━━━\u001b[0m \u001b[32m0.0/73.4 kB\u001b[0m \u001b[31m?\u001b[0m eta \u001b[36m-:--:--\u001b[0m\r\u001b[2K     \u001b[90m━━━━━━━━━━━━━━━━━━━━━━━━━━━━━━━━━━━━━━━━\u001b[0m \u001b[32m73.4/73.4 kB\u001b[0m \u001b[31m6.1 MB/s\u001b[0m eta \u001b[36m0:00:00\u001b[0m\n",
            "\u001b[?25h  Installing build dependencies ... \u001b[?25l\u001b[?25hdone\n",
            "  Getting requirements to build wheel ... \u001b[?25l\u001b[?25hdone\n",
            "  Preparing metadata (pyproject.toml) ... \u001b[?25l\u001b[?25hdone\n",
            "Collecting pybind11>=2.2 (from fasttext)\n",
            "  Using cached pybind11-2.13.1-py3-none-any.whl.metadata (9.5 kB)\n",
            "Requirement already satisfied: setuptools>=0.7.0 in /usr/local/lib/python3.10/dist-packages (from fasttext) (71.0.4)\n",
            "Requirement already satisfied: numpy in /usr/local/lib/python3.10/dist-packages (from fasttext) (1.25.2)\n",
            "Using cached pybind11-2.13.1-py3-none-any.whl (238 kB)\n",
            "Building wheels for collected packages: fasttext\n",
            "  Building wheel for fasttext (pyproject.toml) ... \u001b[?25l\u001b[?25hdone\n",
            "  Created wheel for fasttext: filename=fasttext-0.9.3-cp310-cp310-linux_x86_64.whl size=4246765 sha256=6e560be68db580d73616495082dea135df9c953dc81bbaf798d6a86945caeb54\n",
            "  Stored in directory: /root/.cache/pip/wheels/0d/a2/00/81db54d3e6a8199b829d58e02cec2ddb20ce3e59fad8d3c92a\n",
            "Successfully built fasttext\n",
            "Installing collected packages: pybind11, fasttext\n",
            "Successfully installed fasttext-0.9.3 pybind11-2.13.1\n",
            "Collecting fastparquet\n",
            "  Downloading fastparquet-2024.5.0-cp310-cp310-manylinux_2_17_x86_64.manylinux2014_x86_64.whl.metadata (4.1 kB)\n",
            "Requirement already satisfied: pandas>=1.5.0 in /usr/local/lib/python3.10/dist-packages (from fastparquet) (2.0.3)\n",
            "Requirement already satisfied: numpy in /usr/local/lib/python3.10/dist-packages (from fastparquet) (1.25.2)\n",
            "Collecting cramjam>=2.3 (from fastparquet)\n",
            "  Downloading cramjam-2.8.3-cp310-cp310-manylinux_2_17_x86_64.manylinux2014_x86_64.whl.metadata (4.2 kB)\n",
            "Requirement already satisfied: fsspec in /usr/local/lib/python3.10/dist-packages (from fastparquet) (2023.6.0)\n",
            "Requirement already satisfied: packaging in /usr/local/lib/python3.10/dist-packages (from fastparquet) (24.1)\n",
            "Requirement already satisfied: python-dateutil>=2.8.2 in /usr/local/lib/python3.10/dist-packages (from pandas>=1.5.0->fastparquet) (2.8.2)\n",
            "Requirement already satisfied: pytz>=2020.1 in /usr/local/lib/python3.10/dist-packages (from pandas>=1.5.0->fastparquet) (2023.4)\n",
            "Requirement already satisfied: tzdata>=2022.1 in /usr/local/lib/python3.10/dist-packages (from pandas>=1.5.0->fastparquet) (2024.1)\n",
            "Requirement already satisfied: six>=1.5 in /usr/local/lib/python3.10/dist-packages (from python-dateutil>=2.8.2->pandas>=1.5.0->fastparquet) (1.16.0)\n",
            "Downloading fastparquet-2024.5.0-cp310-cp310-manylinux_2_17_x86_64.manylinux2014_x86_64.whl (1.7 MB)\n",
            "\u001b[2K   \u001b[90m━━━━━━━━━━━━━━━━━━━━━━━━━━━━━━━━━━━━━━━━\u001b[0m \u001b[32m1.7/1.7 MB\u001b[0m \u001b[31m24.1 MB/s\u001b[0m eta \u001b[36m0:00:00\u001b[0m\n",
            "\u001b[?25hDownloading cramjam-2.8.3-cp310-cp310-manylinux_2_17_x86_64.manylinux2014_x86_64.whl (2.0 MB)\n",
            "\u001b[2K   \u001b[90m━━━━━━━━━━━━━━━━━━━━━━━━━━━━━━━━━━━━━━━━\u001b[0m \u001b[32m2.0/2.0 MB\u001b[0m \u001b[31m63.4 MB/s\u001b[0m eta \u001b[36m0:00:00\u001b[0m\n",
            "\u001b[?25hInstalling collected packages: cramjam, fastparquet\n",
            "Successfully installed cramjam-2.8.3 fastparquet-2024.5.0\n",
            "/usr/local/lib/python3.10/dist-packages/gdown/__main__.py:132: FutureWarning: Option `--id` was deprecated in version 4.3.1 and will be removed in 5.0. You don't need to pass it anymore to use a file ID.\n",
            "  warnings.warn(\n",
            "Downloading...\n",
            "From (original): https://drive.google.com/uc?id=1-2oxSCi9q_iIGHt2JP80dhXL0I4bPoiM\n",
            "From (redirected): https://drive.google.com/uc?id=1-2oxSCi9q_iIGHt2JP80dhXL0I4bPoiM&confirm=t&uuid=cf303c7e-ba90-40b1-b294-8b8d61026752\n",
            "To: /content/modelw.pth\n",
            "100% 516M/516M [00:14<00:00, 36.0MB/s]\n",
            "/usr/local/lib/python3.10/dist-packages/gdown/__main__.py:132: FutureWarning: Option `--id` was deprecated in version 4.3.1 and will be removed in 5.0. You don't need to pass it anymore to use a file ID.\n",
            "  warnings.warn(\n",
            "Downloading...\n",
            "From: https://drive.google.com/uc?id=1cAthveg1d3MjrKJtMKGzfX3eH8HJ-dQp\n",
            "To: /content/MedNLI_dataset.zip\n",
            "100% 681k/681k [00:00<00:00, 7.68MB/s]\n",
            "Archive:  MedNLI_dataset.zip\n",
            "   creating: MedNLI_dataset/\n",
            "  inflating: MedNLI_dataset/valid-00000-of-00001-cc552de6d1a6fa4b.parquet  \n",
            "  inflating: MedNLI_dataset/train-00000-of-00001-210cfe9263b99806.parquet  \n",
            "  inflating: MedNLI_dataset/test-00000-of-00001-47685aa42db61e77.parquet  \n"
          ]
        }
      ],
      "source": [
        "!pip install fasttext\n",
        "!pip install fastparquet\n",
        "!gdown --id '1-2oxSCi9q_iIGHt2JP80dhXL0I4bPoiM'\n",
        "!gdown --id '1cAthveg1d3MjrKJtMKGzfX3eH8HJ-dQp'\n",
        "!unzip MedNLI_dataset.zip"
      ]
    },
    {
      "cell_type": "code",
      "execution_count": null,
      "metadata": {
        "colab": {
          "base_uri": "https://localhost:8080/"
        },
        "id": "ewoX7EtwVy0i",
        "outputId": "8eeddcd8-5115-4403-8d9c-ddccf6bef296"
      },
      "outputs": [
        {
          "name": "stdout",
          "output_type": "stream",
          "text": [
            "Mounted at /content/drive\n"
          ]
        }
      ],
      "source": [
        "from transformers import AutoTokenizer, AutoModel, AutoModelForSeq2SeqLM\n",
        "import pandas as pd\n",
        "import numpy as np\n",
        "import torch\n",
        "import torch.nn as nn\n",
        "import torch.optim as optim\n",
        "import torch.nn.functional as F\n",
        "from torch.utils.data import Dataset,DataLoader, random_split\n",
        "from sklearn.metrics import accuracy_score\n",
        "from sklearn.metrics import f1_score\n",
        "from sklearn.metrics import recall_score\n",
        "from sklearn.metrics import precision_score\n",
        "import re\n",
        "import nltk\n",
        "from nltk.corpus import stopwords\n",
        "from nltk.stem import WordNetLemmatizer\n",
        "import time\n",
        "import shutil\n",
        "from google.colab import drive\n",
        "drive.mount('/content/drive')"
      ]
    },
    {
      "cell_type": "code",
      "execution_count": null,
      "metadata": {
        "colab": {
          "base_uri": "https://localhost:8080/",
          "height": 424
        },
        "id": "-imlKF7tWueQ",
        "outputId": "8db7d71f-72ed-4404-fc25-595a4fbff9ea"
      },
      "outputs": [
        {
          "data": {
            "application/vnd.google.colaboratory.intrinsic+json": {
              "summary": "{\n  \"name\": \"test_data\",\n  \"rows\": 1422,\n  \"fields\": [\n    {\n      \"column\": \"id\",\n      \"properties\": {\n        \"dtype\": \"string\",\n        \"num_unique_values\": 1422,\n        \"samples\": [\n          \"MedNLI70\",\n          \"MedNLI1083\",\n          \"MedNLI613\"\n        ],\n        \"semantic_type\": \"\",\n        \"description\": \"\"\n      }\n    },\n    {\n      \"column\": \"query\",\n      \"properties\": {\n        \"dtype\": \"string\",\n        \"num_unique_values\": 1421,\n        \"samples\": [\n          \"\\nTASK: Please classify the relationship between the given premise and hypothesis into one of the following labels: entailment, contradiction, or neutral. Return only the label.\\n###\\nINPUT: [PRE] Liver failure- hx of encephalopathy, no bx seen in records DM type 2- non insulin dependent CHF Elevated PSA Pancreatitis Postive PPD Alcoholic cardiomyopathy [HYP]  The patient has multiple co-morbidities. \\nOUTPUT:\\n\",\n          \"\\nTASK: Please classify the relationship between the given premise and hypothesis into one of the following labels: entailment, contradiction, or neutral. Return only the label.\\n###\\nINPUT: [PRE] He was warmed, dried and stimulated. [HYP]  the patient was cooled\\nOUTPUT:\\n\",\n          \"\\nTASK: Please classify the relationship between the given premise and hypothesis into one of the following labels: entailment, contradiction, or neutral. Return only the label.\\n###\\nINPUT: [PRE] An emergent Hematology consultation was obtained. [HYP]  the patient has heparin induced thrombocytopenia\\nOUTPUT:\\n\"\n        ],\n        \"semantic_type\": \"\",\n        \"description\": \"\"\n      }\n    },\n    {\n      \"column\": \"answer\",\n      \"properties\": {\n        \"dtype\": \"category\",\n        \"num_unique_values\": 3,\n        \"samples\": [\n          \"entailment\",\n          \"contradiction\",\n          \"neutral\"\n        ],\n        \"semantic_type\": \"\",\n        \"description\": \"\"\n      }\n    },\n    {\n      \"column\": \"choices\",\n      \"properties\": {\n        \"dtype\": \"object\",\n        \"semantic_type\": \"\",\n        \"description\": \"\"\n      }\n    },\n    {\n      \"column\": \"gold\",\n      \"properties\": {\n        \"dtype\": \"number\",\n        \"std\": 0,\n        \"min\": 0,\n        \"max\": 2,\n        \"num_unique_values\": 3,\n        \"samples\": [\n          0,\n          1,\n          2\n        ],\n        \"semantic_type\": \"\",\n        \"description\": \"\"\n      }\n    }\n  ]\n}",
              "type": "dataframe",
              "variable_name": "test_data"
            },
            "text/html": [
              "\n",
              "  <div id=\"df-643f0dfd-f9b6-45d4-913c-61e1d9017327\" class=\"colab-df-container\">\n",
              "    <div>\n",
              "<style scoped>\n",
              "    .dataframe tbody tr th:only-of-type {\n",
              "        vertical-align: middle;\n",
              "    }\n",
              "\n",
              "    .dataframe tbody tr th {\n",
              "        vertical-align: top;\n",
              "    }\n",
              "\n",
              "    .dataframe thead th {\n",
              "        text-align: right;\n",
              "    }\n",
              "</style>\n",
              "<table border=\"1\" class=\"dataframe\">\n",
              "  <thead>\n",
              "    <tr style=\"text-align: right;\">\n",
              "      <th></th>\n",
              "      <th>id</th>\n",
              "      <th>query</th>\n",
              "      <th>answer</th>\n",
              "      <th>choices</th>\n",
              "      <th>gold</th>\n",
              "    </tr>\n",
              "  </thead>\n",
              "  <tbody>\n",
              "    <tr>\n",
              "      <th>0</th>\n",
              "      <td>MedNLI0</td>\n",
              "      <td>\\nTASK: Please classify the relationship betwe...</td>\n",
              "      <td>entailment</td>\n",
              "      <td>[entailment, contradiction, neutral]</td>\n",
              "      <td>0</td>\n",
              "    </tr>\n",
              "    <tr>\n",
              "      <th>1</th>\n",
              "      <td>MedNLI1</td>\n",
              "      <td>\\nTASK: Please classify the relationship betwe...</td>\n",
              "      <td>contradiction</td>\n",
              "      <td>[entailment, contradiction, neutral]</td>\n",
              "      <td>1</td>\n",
              "    </tr>\n",
              "    <tr>\n",
              "      <th>2</th>\n",
              "      <td>MedNLI2</td>\n",
              "      <td>\\nTASK: Please classify the relationship betwe...</td>\n",
              "      <td>neutral</td>\n",
              "      <td>[entailment, contradiction, neutral]</td>\n",
              "      <td>2</td>\n",
              "    </tr>\n",
              "    <tr>\n",
              "      <th>3</th>\n",
              "      <td>MedNLI3</td>\n",
              "      <td>\\nTASK: Please classify the relationship betwe...</td>\n",
              "      <td>entailment</td>\n",
              "      <td>[entailment, contradiction, neutral]</td>\n",
              "      <td>0</td>\n",
              "    </tr>\n",
              "    <tr>\n",
              "      <th>4</th>\n",
              "      <td>MedNLI4</td>\n",
              "      <td>\\nTASK: Please classify the relationship betwe...</td>\n",
              "      <td>contradiction</td>\n",
              "      <td>[entailment, contradiction, neutral]</td>\n",
              "      <td>1</td>\n",
              "    </tr>\n",
              "    <tr>\n",
              "      <th>...</th>\n",
              "      <td>...</td>\n",
              "      <td>...</td>\n",
              "      <td>...</td>\n",
              "      <td>...</td>\n",
              "      <td>...</td>\n",
              "    </tr>\n",
              "    <tr>\n",
              "      <th>1417</th>\n",
              "      <td>MedNLI1417</td>\n",
              "      <td>\\nTASK: Please classify the relationship betwe...</td>\n",
              "      <td>contradiction</td>\n",
              "      <td>[entailment, contradiction, neutral]</td>\n",
              "      <td>1</td>\n",
              "    </tr>\n",
              "    <tr>\n",
              "      <th>1418</th>\n",
              "      <td>MedNLI1418</td>\n",
              "      <td>\\nTASK: Please classify the relationship betwe...</td>\n",
              "      <td>neutral</td>\n",
              "      <td>[entailment, contradiction, neutral]</td>\n",
              "      <td>2</td>\n",
              "    </tr>\n",
              "    <tr>\n",
              "      <th>1419</th>\n",
              "      <td>MedNLI1419</td>\n",
              "      <td>\\nTASK: Please classify the relationship betwe...</td>\n",
              "      <td>entailment</td>\n",
              "      <td>[entailment, contradiction, neutral]</td>\n",
              "      <td>0</td>\n",
              "    </tr>\n",
              "    <tr>\n",
              "      <th>1420</th>\n",
              "      <td>MedNLI1420</td>\n",
              "      <td>\\nTASK: Please classify the relationship betwe...</td>\n",
              "      <td>contradiction</td>\n",
              "      <td>[entailment, contradiction, neutral]</td>\n",
              "      <td>1</td>\n",
              "    </tr>\n",
              "    <tr>\n",
              "      <th>1421</th>\n",
              "      <td>MedNLI1421</td>\n",
              "      <td>\\nTASK: Please classify the relationship betwe...</td>\n",
              "      <td>neutral</td>\n",
              "      <td>[entailment, contradiction, neutral]</td>\n",
              "      <td>2</td>\n",
              "    </tr>\n",
              "  </tbody>\n",
              "</table>\n",
              "<p>1422 rows × 5 columns</p>\n",
              "</div>\n",
              "    <div class=\"colab-df-buttons\">\n",
              "\n",
              "  <div class=\"colab-df-container\">\n",
              "    <button class=\"colab-df-convert\" onclick=\"convertToInteractive('df-643f0dfd-f9b6-45d4-913c-61e1d9017327')\"\n",
              "            title=\"Convert this dataframe to an interactive table.\"\n",
              "            style=\"display:none;\">\n",
              "\n",
              "  <svg xmlns=\"http://www.w3.org/2000/svg\" height=\"24px\" viewBox=\"0 -960 960 960\">\n",
              "    <path d=\"M120-120v-720h720v720H120Zm60-500h600v-160H180v160Zm220 220h160v-160H400v160Zm0 220h160v-160H400v160ZM180-400h160v-160H180v160Zm440 0h160v-160H620v160ZM180-180h160v-160H180v160Zm440 0h160v-160H620v160Z\"/>\n",
              "  </svg>\n",
              "    </button>\n",
              "\n",
              "  <style>\n",
              "    .colab-df-container {\n",
              "      display:flex;\n",
              "      gap: 12px;\n",
              "    }\n",
              "\n",
              "    .colab-df-convert {\n",
              "      background-color: #E8F0FE;\n",
              "      border: none;\n",
              "      border-radius: 50%;\n",
              "      cursor: pointer;\n",
              "      display: none;\n",
              "      fill: #1967D2;\n",
              "      height: 32px;\n",
              "      padding: 0 0 0 0;\n",
              "      width: 32px;\n",
              "    }\n",
              "\n",
              "    .colab-df-convert:hover {\n",
              "      background-color: #E2EBFA;\n",
              "      box-shadow: 0px 1px 2px rgba(60, 64, 67, 0.3), 0px 1px 3px 1px rgba(60, 64, 67, 0.15);\n",
              "      fill: #174EA6;\n",
              "    }\n",
              "\n",
              "    .colab-df-buttons div {\n",
              "      margin-bottom: 4px;\n",
              "    }\n",
              "\n",
              "    [theme=dark] .colab-df-convert {\n",
              "      background-color: #3B4455;\n",
              "      fill: #D2E3FC;\n",
              "    }\n",
              "\n",
              "    [theme=dark] .colab-df-convert:hover {\n",
              "      background-color: #434B5C;\n",
              "      box-shadow: 0px 1px 3px 1px rgba(0, 0, 0, 0.15);\n",
              "      filter: drop-shadow(0px 1px 2px rgba(0, 0, 0, 0.3));\n",
              "      fill: #FFFFFF;\n",
              "    }\n",
              "  </style>\n",
              "\n",
              "    <script>\n",
              "      const buttonEl =\n",
              "        document.querySelector('#df-643f0dfd-f9b6-45d4-913c-61e1d9017327 button.colab-df-convert');\n",
              "      buttonEl.style.display =\n",
              "        google.colab.kernel.accessAllowed ? 'block' : 'none';\n",
              "\n",
              "      async function convertToInteractive(key) {\n",
              "        const element = document.querySelector('#df-643f0dfd-f9b6-45d4-913c-61e1d9017327');\n",
              "        const dataTable =\n",
              "          await google.colab.kernel.invokeFunction('convertToInteractive',\n",
              "                                                    [key], {});\n",
              "        if (!dataTable) return;\n",
              "\n",
              "        const docLinkHtml = 'Like what you see? Visit the ' +\n",
              "          '<a target=\"_blank\" href=https://colab.research.google.com/notebooks/data_table.ipynb>data table notebook</a>'\n",
              "          + ' to learn more about interactive tables.';\n",
              "        element.innerHTML = '';\n",
              "        dataTable['output_type'] = 'display_data';\n",
              "        await google.colab.output.renderOutput(dataTable, element);\n",
              "        const docLink = document.createElement('div');\n",
              "        docLink.innerHTML = docLinkHtml;\n",
              "        element.appendChild(docLink);\n",
              "      }\n",
              "    </script>\n",
              "  </div>\n",
              "\n",
              "\n",
              "<div id=\"df-adf4981f-c130-4cb5-9719-2922ee602485\">\n",
              "  <button class=\"colab-df-quickchart\" onclick=\"quickchart('df-adf4981f-c130-4cb5-9719-2922ee602485')\"\n",
              "            title=\"Suggest charts\"\n",
              "            style=\"display:none;\">\n",
              "\n",
              "<svg xmlns=\"http://www.w3.org/2000/svg\" height=\"24px\"viewBox=\"0 0 24 24\"\n",
              "     width=\"24px\">\n",
              "    <g>\n",
              "        <path d=\"M19 3H5c-1.1 0-2 .9-2 2v14c0 1.1.9 2 2 2h14c1.1 0 2-.9 2-2V5c0-1.1-.9-2-2-2zM9 17H7v-7h2v7zm4 0h-2V7h2v10zm4 0h-2v-4h2v4z\"/>\n",
              "    </g>\n",
              "</svg>\n",
              "  </button>\n",
              "\n",
              "<style>\n",
              "  .colab-df-quickchart {\n",
              "      --bg-color: #E8F0FE;\n",
              "      --fill-color: #1967D2;\n",
              "      --hover-bg-color: #E2EBFA;\n",
              "      --hover-fill-color: #174EA6;\n",
              "      --disabled-fill-color: #AAA;\n",
              "      --disabled-bg-color: #DDD;\n",
              "  }\n",
              "\n",
              "  [theme=dark] .colab-df-quickchart {\n",
              "      --bg-color: #3B4455;\n",
              "      --fill-color: #D2E3FC;\n",
              "      --hover-bg-color: #434B5C;\n",
              "      --hover-fill-color: #FFFFFF;\n",
              "      --disabled-bg-color: #3B4455;\n",
              "      --disabled-fill-color: #666;\n",
              "  }\n",
              "\n",
              "  .colab-df-quickchart {\n",
              "    background-color: var(--bg-color);\n",
              "    border: none;\n",
              "    border-radius: 50%;\n",
              "    cursor: pointer;\n",
              "    display: none;\n",
              "    fill: var(--fill-color);\n",
              "    height: 32px;\n",
              "    padding: 0;\n",
              "    width: 32px;\n",
              "  }\n",
              "\n",
              "  .colab-df-quickchart:hover {\n",
              "    background-color: var(--hover-bg-color);\n",
              "    box-shadow: 0 1px 2px rgba(60, 64, 67, 0.3), 0 1px 3px 1px rgba(60, 64, 67, 0.15);\n",
              "    fill: var(--button-hover-fill-color);\n",
              "  }\n",
              "\n",
              "  .colab-df-quickchart-complete:disabled,\n",
              "  .colab-df-quickchart-complete:disabled:hover {\n",
              "    background-color: var(--disabled-bg-color);\n",
              "    fill: var(--disabled-fill-color);\n",
              "    box-shadow: none;\n",
              "  }\n",
              "\n",
              "  .colab-df-spinner {\n",
              "    border: 2px solid var(--fill-color);\n",
              "    border-color: transparent;\n",
              "    border-bottom-color: var(--fill-color);\n",
              "    animation:\n",
              "      spin 1s steps(1) infinite;\n",
              "  }\n",
              "\n",
              "  @keyframes spin {\n",
              "    0% {\n",
              "      border-color: transparent;\n",
              "      border-bottom-color: var(--fill-color);\n",
              "      border-left-color: var(--fill-color);\n",
              "    }\n",
              "    20% {\n",
              "      border-color: transparent;\n",
              "      border-left-color: var(--fill-color);\n",
              "      border-top-color: var(--fill-color);\n",
              "    }\n",
              "    30% {\n",
              "      border-color: transparent;\n",
              "      border-left-color: var(--fill-color);\n",
              "      border-top-color: var(--fill-color);\n",
              "      border-right-color: var(--fill-color);\n",
              "    }\n",
              "    40% {\n",
              "      border-color: transparent;\n",
              "      border-right-color: var(--fill-color);\n",
              "      border-top-color: var(--fill-color);\n",
              "    }\n",
              "    60% {\n",
              "      border-color: transparent;\n",
              "      border-right-color: var(--fill-color);\n",
              "    }\n",
              "    80% {\n",
              "      border-color: transparent;\n",
              "      border-right-color: var(--fill-color);\n",
              "      border-bottom-color: var(--fill-color);\n",
              "    }\n",
              "    90% {\n",
              "      border-color: transparent;\n",
              "      border-bottom-color: var(--fill-color);\n",
              "    }\n",
              "  }\n",
              "</style>\n",
              "\n",
              "  <script>\n",
              "    async function quickchart(key) {\n",
              "      const quickchartButtonEl =\n",
              "        document.querySelector('#' + key + ' button');\n",
              "      quickchartButtonEl.disabled = true;  // To prevent multiple clicks.\n",
              "      quickchartButtonEl.classList.add('colab-df-spinner');\n",
              "      try {\n",
              "        const charts = await google.colab.kernel.invokeFunction(\n",
              "            'suggestCharts', [key], {});\n",
              "      } catch (error) {\n",
              "        console.error('Error during call to suggestCharts:', error);\n",
              "      }\n",
              "      quickchartButtonEl.classList.remove('colab-df-spinner');\n",
              "      quickchartButtonEl.classList.add('colab-df-quickchart-complete');\n",
              "    }\n",
              "    (() => {\n",
              "      let quickchartButtonEl =\n",
              "        document.querySelector('#df-adf4981f-c130-4cb5-9719-2922ee602485 button');\n",
              "      quickchartButtonEl.style.display =\n",
              "        google.colab.kernel.accessAllowed ? 'block' : 'none';\n",
              "    })();\n",
              "  </script>\n",
              "</div>\n",
              "    </div>\n",
              "  </div>\n"
            ],
            "text/plain": [
              "              id                                              query  \\\n",
              "0        MedNLI0  \\nTASK: Please classify the relationship betwe...   \n",
              "1        MedNLI1  \\nTASK: Please classify the relationship betwe...   \n",
              "2        MedNLI2  \\nTASK: Please classify the relationship betwe...   \n",
              "3        MedNLI3  \\nTASK: Please classify the relationship betwe...   \n",
              "4        MedNLI4  \\nTASK: Please classify the relationship betwe...   \n",
              "...          ...                                                ...   \n",
              "1417  MedNLI1417  \\nTASK: Please classify the relationship betwe...   \n",
              "1418  MedNLI1418  \\nTASK: Please classify the relationship betwe...   \n",
              "1419  MedNLI1419  \\nTASK: Please classify the relationship betwe...   \n",
              "1420  MedNLI1420  \\nTASK: Please classify the relationship betwe...   \n",
              "1421  MedNLI1421  \\nTASK: Please classify the relationship betwe...   \n",
              "\n",
              "             answer                               choices  gold  \n",
              "0        entailment  [entailment, contradiction, neutral]     0  \n",
              "1     contradiction  [entailment, contradiction, neutral]     1  \n",
              "2           neutral  [entailment, contradiction, neutral]     2  \n",
              "3        entailment  [entailment, contradiction, neutral]     0  \n",
              "4     contradiction  [entailment, contradiction, neutral]     1  \n",
              "...             ...                                   ...   ...  \n",
              "1417  contradiction  [entailment, contradiction, neutral]     1  \n",
              "1418        neutral  [entailment, contradiction, neutral]     2  \n",
              "1419     entailment  [entailment, contradiction, neutral]     0  \n",
              "1420  contradiction  [entailment, contradiction, neutral]     1  \n",
              "1421        neutral  [entailment, contradiction, neutral]     2  \n",
              "\n",
              "[1422 rows x 5 columns]"
            ]
          },
          "execution_count": 4,
          "metadata": {},
          "output_type": "execute_result"
        }
      ],
      "source": [
        "test_data = pd.read_parquet('MedNLI_dataset/test-00000-of-00001-47685aa42db61e77.parquet', engine='fastparquet')\n",
        "train_data = pd.read_parquet('MedNLI_dataset/train-00000-of-00001-210cfe9263b99806.parquet', engine='fastparquet')\n",
        "valid_data = pd.read_parquet('MedNLI_dataset/valid-00000-of-00001-cc552de6d1a6fa4b.parquet', engine='fastparquet')\n",
        "test_data"
      ]
    },
    {
      "cell_type": "code",
      "execution_count": null,
      "metadata": {
        "id": "yqLOKmtxXdQt"
      },
      "outputs": [],
      "source": [
        "def find_pre_and_hyp(query):\n",
        "    start_pre = query.find(\"[PRE]\") + len(\"[PRE]\")\n",
        "    end_pre = query.find(\"[HYP]\")\n",
        "    start_hyp = query.find(\"[HYP]\") + len(\"[HYP]\")\n",
        "    end_hyp = query.find(\"OUTPUT:\")\n",
        "    premise = query[start_pre:end_pre].strip()\n",
        "    hypothesis = query[start_hyp:end_hyp].strip()\n",
        "\n",
        "    return premise,hypothesis"
      ]
    },
    {
      "cell_type": "code",
      "execution_count": null,
      "metadata": {
        "id": "hI1Ih4gsmSdz"
      },
      "outputs": [],
      "source": [
        "class CustomDataset(Dataset):\n",
        "    def __init__(self, x_list, y_list):\n",
        "        self.samples = []\n",
        "        for x,y in zip(x_list,y_list):\n",
        "            #x_tensor = torch.tensor(x,dtype = torch.float32)\n",
        "            y_tensor = torch.tensor(y,dtype = torch.float32)\n",
        "            self.samples.append((x[0],x[1],y_tensor))\n",
        "\n",
        "    def __len__(self):\n",
        "        return len(self.samples)\n",
        "\n",
        "    def __getitem__(self, idx):\n",
        "        return self.samples[idx]"
      ]
    },
    {
      "cell_type": "code",
      "execution_count": null,
      "metadata": {
        "colab": {
          "base_uri": "https://localhost:8080/",
          "height": 281,
          "referenced_widgets": [
            "957205d2f9d249d494d5bd3d6fe9e2ca",
            "ab00e150eb4f4203aa0279d16c53691b",
            "53a995e550ee4cdebce604617ee41bad",
            "4acb23ffd31049a99ef22a1870929b82",
            "cfed3e20aa3b44c09edacdfc01dd3024",
            "0f3de32ab20847cfb8b1202a7e236591",
            "e4d96ecaa8944fedb9a20ab2405b834a",
            "062e17c7cc0f42fe98ec145587bac63b",
            "9f1adea1aa30450d800730f94aea4da6",
            "3a2340563c8a40f8b445c844f3554a79",
            "0a59b65be05646bc8cb0a9e8a11849ea",
            "eb4cccf06d2b4eb784aa70a1ae71c7aa",
            "d8ad691a28264c18969af7dacbff0601",
            "2bf31f52f203477b8cc5072bdcc7bbdb",
            "524ec21cd9b94a4c8951706e9f7e87da",
            "418d333499814746beca2ff2f4bd37c4",
            "8e8a4979011d4d1ab10e4a0021205dee",
            "bdfc0f3c54db4f8d959da87e75886310",
            "1e761069f96549be8b747276b6d57df8",
            "6ce802d6b7544dff9441e11c3006ae06",
            "86e5b1793d5b4059b3ca9b8c1bbbbac3",
            "0df5f6158e094210a29b01a27d4a7deb",
            "f5d466121fee4ed6b62de1f5c5065451",
            "8abcc5aa76b848d4aa000c4dab1879dc",
            "27c8fa566e0e4259ba70734958bb1f1e",
            "4d16a69ea3a74352be10055cde8e0e5d",
            "9323b2c5aec54d21bd3ba9d10f897d1f",
            "8a3e4e3fc8a54050b0961e2e6d31b249",
            "4e728fdae9724dcaab5da8dbfe81df45",
            "5a337f2a698349c99ae7876482a6a7d2",
            "9b6753f6e38b463999ffaaa09ff11901",
            "55d02e6ebc4c4ad2b2ca76ea35cb41f7",
            "7ada472a885b4271a0326e0eec021103",
            "8f3ca77460b443d38f139e9748cc2b63",
            "ef6bcc392a454e0faf3abde38f689142",
            "468d3dd1e64f422a8992f1310bd543e7",
            "203e01ec1adb4a08bfd765d1a3bfeca5",
            "40ba0ac92d1648dfad55271ac1ac4a38",
            "2b6852bbc6204ecdbbd49e3168189ecb",
            "d5e76fd5f3d44c0b86e02e535d5e1971",
            "378914546d634c0082b1f823e2fda343",
            "22356ce193bb4186b33f00648cddd71c",
            "90c1eba72cf1447f843d2a8e49ea18fa",
            "fcdcce86fa2a45e684e7341e0aa313d4",
            "fdbf9abce9d34699aac1f7c2bc9e0b3b",
            "74596a9bde894ea0945664c2b8bb5d66",
            "f02030d953ba4a01b109e4a13020381d",
            "7ef7f7fea60147d29a5e80232432f3fd",
            "50d56321743d4b2fa8a1923491f1505f",
            "6f5c482b24cd44cd8062fae8449a94a1",
            "f4af98c89a8c48c485c52107cf97dc30",
            "51c2833e985440ce92dc30cb2c7e9252",
            "07f649beb3c0495c981e606a43be2612",
            "4c3b5a2bd3c840278305c61a44def18d",
            "e375048e8a3c45fa8718904bc3ec8f32"
          ]
        },
        "id": "pFLPQCtOZMsx",
        "outputId": "9d1bf921-3d22-49b6-c7d1-d740130ec450"
      },
      "outputs": [
        {
          "name": "stderr",
          "output_type": "stream",
          "text": [
            "/usr/local/lib/python3.10/dist-packages/huggingface_hub/utils/_token.py:89: UserWarning: \n",
            "The secret `HF_TOKEN` does not exist in your Colab secrets.\n",
            "To authenticate with the Hugging Face Hub, create a token in your settings tab (https://huggingface.co/settings/tokens), set it as secret in your Google Colab and restart your session.\n",
            "You will be able to reuse this secret in all of your notebooks.\n",
            "Please note that authentication is recommended but still optional to access public models or datasets.\n",
            "  warnings.warn(\n"
          ]
        },
        {
          "data": {
            "application/vnd.jupyter.widget-view+json": {
              "model_id": "957205d2f9d249d494d5bd3d6fe9e2ca",
              "version_major": 2,
              "version_minor": 0
            },
            "text/plain": [
              "tokenizer_config.json:   0%|          | 0.00/136 [00:00<?, ?B/s]"
            ]
          },
          "metadata": {},
          "output_type": "display_data"
        },
        {
          "data": {
            "application/vnd.jupyter.widget-view+json": {
              "model_id": "eb4cccf06d2b4eb784aa70a1ae71c7aa",
              "version_major": 2,
              "version_minor": 0
            },
            "text/plain": [
              "config.json:   0%|          | 0.00/454 [00:00<?, ?B/s]"
            ]
          },
          "metadata": {},
          "output_type": "display_data"
        },
        {
          "data": {
            "application/vnd.jupyter.widget-view+json": {
              "model_id": "f5d466121fee4ed6b62de1f5c5065451",
              "version_major": 2,
              "version_minor": 0
            },
            "text/plain": [
              "vocab.txt:   0%|          | 0.00/213k [00:00<?, ?B/s]"
            ]
          },
          "metadata": {},
          "output_type": "display_data"
        },
        {
          "data": {
            "application/vnd.jupyter.widget-view+json": {
              "model_id": "8f3ca77460b443d38f139e9748cc2b63",
              "version_major": 2,
              "version_minor": 0
            },
            "text/plain": [
              "special_tokens_map.json:   0%|          | 0.00/112 [00:00<?, ?B/s]"
            ]
          },
          "metadata": {},
          "output_type": "display_data"
        },
        {
          "data": {
            "application/vnd.jupyter.widget-view+json": {
              "model_id": "fdbf9abce9d34699aac1f7c2bc9e0b3b",
              "version_major": 2,
              "version_minor": 0
            },
            "text/plain": [
              "pytorch_model.bin:   0%|          | 0.00/433M [00:00<?, ?B/s]"
            ]
          },
          "metadata": {},
          "output_type": "display_data"
        }
      ],
      "source": [
        "device = torch.device(\"cuda\" if torch.cuda.is_available() else \"cpu\")\n",
        "tokenizer = AutoTokenizer.from_pretrained(\"gsarti/biobert-nli\")\n",
        "bert_model = AutoModel.from_pretrained(\"gsarti/biobert-nli\").to(device)\n",
        "src_pad_idx = 0\n",
        "src_vocab_size = bert_model.config.vocab_size"
      ]
    },
    {
      "cell_type": "code",
      "execution_count": null,
      "metadata": {
        "id": "p_uPnftojy9W"
      },
      "outputs": [],
      "source": [
        "def get_lists(data):\n",
        "    x_list = []\n",
        "    y_list = []\n",
        "    i =0\n",
        "    for query,answer in zip(data['query'],data['answer']):\n",
        "        i = i + 1\n",
        "        if answer == 'entailment':\n",
        "           y = [1,0,0]\n",
        "        elif answer == 'neutral':\n",
        "           y = [0,1,0]\n",
        "        elif answer == 'contradiction':\n",
        "           y = [0,0,1]\n",
        "        else:\n",
        "           print('should not get here')\n",
        "\n",
        "        premise,hypothesis = find_pre_and_hyp(query)\n",
        "        x_list.append((premise,hypothesis))\n",
        "        y_list.append(y)\n",
        "    return x_list,y_list"
      ]
    },
    {
      "cell_type": "code",
      "execution_count": null,
      "metadata": {
        "id": "6SMNxLIqbRor"
      },
      "outputs": [],
      "source": [
        "train_x_list,train_y_list = get_lists(train_data)\n",
        "test_x_list,test_y_list = get_lists(test_data)\n",
        "val_x_list,val_y_list = get_lists(valid_data)"
      ]
    },
    {
      "cell_type": "code",
      "execution_count": null,
      "metadata": {
        "colab": {
          "base_uri": "https://localhost:8080/"
        },
        "id": "BNGyCba4gR6O",
        "outputId": "4b31e69b-7195-4ff5-f880-8b3f124fc6c0"
      },
      "outputs": [
        {
          "name": "stdout",
          "output_type": "stream",
          "text": [
            "11232\n",
            "11232\n",
            "1422\n",
            "1422\n",
            "1395\n",
            "1395\n"
          ]
        }
      ],
      "source": [
        "print(len(train_x_list))\n",
        "print(len(train_y_list))\n",
        "print(len(test_x_list))\n",
        "print(len(test_y_list))\n",
        "print(len(val_x_list))\n",
        "print(len(val_y_list))"
      ]
    },
    {
      "cell_type": "code",
      "execution_count": null,
      "metadata": {
        "id": "liSPv4JZ9VzM"
      },
      "outputs": [],
      "source": [
        "train_dataset = CustomDataset(train_x_list,train_y_list)\n",
        "test_dataset = CustomDataset(test_x_list,test_y_list)\n",
        "val_dataset = CustomDataset(val_x_list,val_y_list)"
      ]
    },
    {
      "cell_type": "code",
      "execution_count": null,
      "metadata": {
        "id": "e34Znrcrh78S"
      },
      "outputs": [],
      "source": [
        "class embedding_layer(nn.Module):\n",
        "  def __init__(self,bert_model,tokenizer):\n",
        "    super(embedding_layer, self).__init__()\n",
        "    self.bert_model = bert_model\n",
        "    self.tokenizer = tokenizer\n",
        "\n",
        "  def forward(self, x):\n",
        "    with torch.no_grad():\n",
        "         s = tokenizer(x,return_tensors=\"pt\",padding=True).to(device)\n",
        "         vec = bert_model(**s)['last_hidden_state'].to(device)\n",
        "    return vec"
      ]
    },
    {
      "cell_type": "code",
      "execution_count": null,
      "metadata": {
        "id": "hZFjQji5jOiR"
      },
      "outputs": [],
      "source": [
        "class PositionalEncoding(nn.Module):\n",
        "    def __init__(self, seq_len,embedding_size):\n",
        "        super().__init__()\n",
        "        self.dropout = nn.Dropout(0.1)\n",
        "        self.embedding_size = embedding_size\n",
        "        self.seq_len = seq_len\n",
        "\n",
        "    def forward(self, x):\n",
        "        pe = torch.zeros(x.size(0), x.size(1), self.embedding_size).to(device)\n",
        "        div_term = torch.zeros(x.size(0), 1, self.embedding_size).to(device)\n",
        "        ks = torch.arange(self.embedding_size).float().to(device)\n",
        "        values = torch.exp(-torch.log(torch.tensor(1000.0)) * 2 * ks / self.embedding_size).to(device)\n",
        "        values = values.view(1, 1, -1).to(device)\n",
        "        div_term = div_term + values\n",
        "        x = x.reshape([x.shape[0],x.shape[1],1]).to(device)\n",
        "        pe[:, :, ::2] = torch.sin(x * div_term)[:, :, ::2].to(device)\n",
        "        pe[:, :, 1::2] = torch.cos(x * div_term)[:, :, 1::2].to(device)\n",
        "        return self.dropout(pe)"
      ]
    },
    {
      "cell_type": "code",
      "execution_count": null,
      "metadata": {
        "id": "kWUt0eOEjSE3"
      },
      "outputs": [],
      "source": [
        "class MultiHeadAttention(nn.Module):\n",
        "    def __init__(self, embedding_size, heads):\n",
        "        super().__init__()\n",
        "        self.embedding_size = embedding_size\n",
        "        self.heads = heads\n",
        "        self.head_dim = embedding_size // heads\n",
        "        assert(self.heads * self.head_dim == self.embedding_size), \"Invalid number of heads\"\n",
        "        self.fc_values = nn.Linear(self.head_dim, self.head_dim, bias=False).to(device)\n",
        "        self.fc_keys = nn.Linear(self.head_dim, self.head_dim, bias=False).to(device)\n",
        "        self.fc_queries = nn.Linear(self.head_dim, self.head_dim, bias=False).to(device)\n",
        "        self.fc_out = nn.Linear(heads * self.head_dim, embedding_size).to(device)\n",
        "\n",
        "    def forward(self, values, keys, queries, mask):\n",
        "        N = queries.shape[0]\n",
        "        value_len, key_len, query_len = values.shape[1], keys.shape[1], queries.shape[1]\n",
        "        values = values.reshape(N, value_len, self.heads, self.head_dim)\n",
        "        keys = keys.reshape(N, key_len, self.heads, self.head_dim)\n",
        "        queries = queries.reshape(N, query_len, self.heads, self.head_dim)\n",
        "        values = self.fc_values(values).to(device)\n",
        "        keys = self.fc_keys(keys).to(device)\n",
        "        queries = self.fc_queries(queries).to(device)\n",
        "        energy = torch.einsum(\"nqhd,nkhd->nhqk\", [queries, keys]).to(device)\n",
        "        if mask is not None:\n",
        "            energy = energy.masked_fill(mask.to(device) == 0, float(\"-1e20\")).to(device)\n",
        "        energy = torch.softmax(energy / (self.embedding_size ** 0.5), dim=3).to(device)\n",
        "        attention = torch.einsum(\"nhql,nlhd->nqhd\", [energy, values]).to(device)\n",
        "        attention = attention.reshape(N, query_len, self.heads * self.head_dim).to(device)\n",
        "        out = self.fc_out(attention)\n",
        "        return out"
      ]
    },
    {
      "cell_type": "code",
      "execution_count": null,
      "metadata": {
        "id": "BARIDW8JjTYg"
      },
      "outputs": [],
      "source": [
        "class TransformerBlock(nn.Module):\n",
        "    def __init__(self, embedding_size, heads, forward_expansion, p):\n",
        "        super().__init__()\n",
        "        self.attention = MultiHeadAttention(embedding_size, heads)\n",
        "        self.norm1 = nn.LayerNorm(embedding_size)\n",
        "        self.feed_forward = nn.Sequential(nn.Linear(embedding_size, forward_expansion * embedding_size),\n",
        "                                          nn.ReLU(),\n",
        "                                          nn.Linear(forward_expansion * embedding_size, embedding_size))\n",
        "        self.norm2 = nn.LayerNorm(embedding_size)\n",
        "        self.dropout = nn.Dropout(p)\n",
        "    def forward(self, values, keys, queries, mask):\n",
        "        attention_out = self.attention(values, keys, queries, mask)\n",
        "        x = self.norm1(attention_out + queries)\n",
        "        x = self.dropout(x)\n",
        "        ff_out = self.feed_forward(x)\n",
        "        out = self.norm2(ff_out + x)\n",
        "        out = self.dropout(out)\n",
        "        return out"
      ]
    },
    {
      "cell_type": "code",
      "execution_count": null,
      "metadata": {
        "id": "QGiJnxVqjWao"
      },
      "outputs": [],
      "source": [
        "class Encoder(nn.Module):\n",
        "    def __init__(self, src_vocab_size, embedding_size, num_layers, heads,\n",
        "                 forward_expansion, max_length, p, device):\n",
        "        super().__init__()\n",
        "        self.device = device\n",
        "        self.word_embedding = embedding_layer(bert_model,tokenizer)\n",
        "        self.positional_embedding = PositionalEncoding(max_length, embedding_size)\n",
        "        self.layers = nn.ModuleList([TransformerBlock(embedding_size, heads, forward_expansion, p) for _ in range(num_layers)])\n",
        "        self.dropout = nn.Dropout(p)\n",
        "\n",
        "    def forward(self, x, mask):\n",
        "        mask = None\n",
        "        pe = self.word_embedding(x)\n",
        "        N = pe.size(0)\n",
        "        seq_len = pe.size(1)\n",
        "        positions = torch.arange(0, seq_len).expand(N, seq_len).to(self.device)\n",
        "        out = self.dropout((pe + self.positional_embedding(positions)))\n",
        "        for layer in self.layers:\n",
        "            out = layer(out, out, out ,mask)\n",
        "        return out"
      ]
    },
    {
      "cell_type": "code",
      "execution_count": null,
      "metadata": {
        "id": "bURW1ynJjZst"
      },
      "outputs": [],
      "source": [
        "class Transformer(nn.Module):\n",
        "    def __init__(self, src_vocab_size, src_pad_idx, embedding_size=768,\n",
        "                 num_layers=1, forward_expansion=8, heads=8, max_length=100, p=0.1):\n",
        "        super().__init__()\n",
        "        self.src_pad_idx = src_pad_idx\n",
        "        self.encoder = Encoder(src_vocab_size, embedding_size, num_layers, heads,\n",
        "                               forward_expansion, max_length, p, device)\n",
        "\n",
        "    def get_src_mask(self, src):\n",
        "        src_mask = (src != self.src_pad_idx).unsqueeze(1).unsqueeze(2).to(device)\n",
        "        return src_mask\n",
        "\n",
        "    def forward(self, src):\n",
        "        src_mask = None\n",
        "        enc_out = self.encoder(src, src_mask).to(device)\n",
        "        return enc_out"
      ]
    },
    {
      "cell_type": "code",
      "execution_count": null,
      "metadata": {
        "id": "tA_HiJk8BLbm"
      },
      "outputs": [],
      "source": [
        "class NN(nn.Module):\n",
        "    def __init__(self):\n",
        "        super(NN, self).__init__()\n",
        "        self.dropout1 = nn.Dropout(0.1)\n",
        "        self.dropout2 = nn.Dropout(0.1)\n",
        "        self.transformer1 = Transformer(src_vocab_size, src_pad_idx).to(device)\n",
        "        self.transformer2 = Transformer(src_vocab_size, src_pad_idx).to(device)\n",
        "        self.fc1 = nn.Linear(768*2, 256).to(device)\n",
        "        self.fc2 = nn.Linear(256, 3).to(device)\n",
        "\n",
        "    def forward(self, x_pre,x_hyp):\n",
        "        out1 = self.transformer1(x_pre)\n",
        "        out2 = self.transformer2(x_hyp)\n",
        "        out1 = torch.mean(out1,1)\n",
        "        out2 = torch.mean(out2,1)\n",
        "        x = torch.cat((out1,out2),1)\n",
        "        x = F.relu(self.fc1(self.dropout1(x)))\n",
        "        x = nn.functional.softmax(self.fc2(self.dropout2(x)),dim=1)\n",
        "        return x"
      ]
    },
    {
      "cell_type": "code",
      "execution_count": null,
      "metadata": {
        "id": "oUYk25vYXRj7"
      },
      "outputs": [],
      "source": [
        "bsize = 32\n",
        "train_loader = torch.utils.data.DataLoader(train_dataset, batch_size=bsize, shuffle=True)\n",
        "val_loader = torch.utils.data.DataLoader(val_dataset, batch_size=bsize, shuffle=True)\n",
        "test_loader = torch.utils.data.DataLoader(test_dataset, batch_size=bsize, shuffle=False)"
      ]
    },
    {
      "cell_type": "code",
      "execution_count": null,
      "metadata": {
        "id": "Qb8WFew945C2"
      },
      "outputs": [],
      "source": [
        "def get_model_acc(model,data_loader):\n",
        "    model.eval()\n",
        "    predictions = []\n",
        "    true_labels = []\n",
        "    for x_pre, x_hyp, y in data_loader:\n",
        "        outputs = model(x_pre,x_hyp)\n",
        "        predicted_labels = torch.argmax(outputs, dim=1).cpu().numpy()\n",
        "        predictions.extend(predicted_labels)\n",
        "        l1 = torch.argmax(y, dim=1).cpu().numpy()\n",
        "        true_labels.extend(l1)\n",
        "    model.train()\n",
        "    return accuracy_score(true_labels, predictions)"
      ]
    },
    {
      "cell_type": "code",
      "execution_count": null,
      "metadata": {
        "id": "_ZrTj3-frcnJ"
      },
      "outputs": [],
      "source": [
        "def get_model_fscore(model,data_loader):\n",
        "    model.eval()\n",
        "    predictions = []\n",
        "    true_labels = []\n",
        "    for x_pre, x_hyp, y in data_loader:\n",
        "        outputs = model(x_pre,x_hyp)\n",
        "        predicted_labels = torch.argmax(outputs, dim=1).cpu().numpy()\n",
        "        predictions.extend(predicted_labels)\n",
        "        l1 = torch.argmax(y, dim=1).cpu().numpy()\n",
        "        true_labels.extend(l1)\n",
        "    model.train()\n",
        "    return f1_score(true_labels, predictions)"
      ]
    },
    {
      "cell_type": "code",
      "execution_count": null,
      "metadata": {
        "id": "4stVmLtmPhHX"
      },
      "outputs": [],
      "source": [
        "model = torch.load('modelw.pth')"
      ]
    },
    {
      "cell_type": "code",
      "execution_count": null,
      "metadata": {
        "id": "X5HVT468PGhe"
      },
      "outputs": [],
      "source": [
        "def get_inf_from_num(num):\n",
        "    if num == 0:\n",
        "       return 'entailment'\n",
        "    elif num == 1:\n",
        "       return 'neutral'\n",
        "    elif num == 2:\n",
        "       return 'contradiction'"
      ]
    },
    {
      "cell_type": "code",
      "execution_count": null,
      "metadata": {
        "id": "Ztqtr1q2QzKj"
      },
      "outputs": [],
      "source": [
        "count = 0\n",
        "count1 = 0\n",
        "train_newx_list = []\n",
        "train_newy_list = []\n",
        "for x_pre, x_hyp, y in train_loader:\n",
        "    outputs = model(x_pre,x_hyp)\n",
        "    predicted_labels = torch.argmax(outputs, dim=1).cpu().numpy()\n",
        "    true_labels = torch.argmax(y, dim=1).cpu().numpy()\n",
        "    for i in range(len(predicted_labels)):\n",
        "          predicted_label = predicted_labels[i]\n",
        "          true_label = true_labels[i]\n",
        "          if predicted_label != true_label:\n",
        "             #enc\n",
        "             count = count + 1\n",
        "             #print(count)\n",
        "             #print(count1)\n",
        "             premise = x_pre[i]\n",
        "             hypothesis = x_hyp[i]\n",
        "             train_newx_list.append((premise,hypothesis))\n",
        "             train_newy_list.append([0,1])\n",
        "             #print(premise)\n",
        "             #print(hypothesis)\n",
        "             #print('predicted: '+str(get_inf_from_num(predicted_label)))\n",
        "             #print('actual: '+str(get_inf_from_num(true_label)))\n",
        "             #print('------------------------------------------')\n",
        "          else:\n",
        "             #print(count)\n",
        "             #print(count1)\n",
        "             if count1 < 1532:\n",
        "                count1 = count1 + 1\n",
        "                premise = x_pre[i]\n",
        "                hypothesis = x_hyp[i]\n",
        "                train_newx_list.append((premise,hypothesis))\n",
        "                train_newy_list.append([1,0])\n",
        "          #print('================================================')"
      ]
    },
    {
      "cell_type": "code",
      "execution_count": null,
      "metadata": {
        "colab": {
          "base_uri": "https://localhost:8080/"
        },
        "id": "lvK0LhyCjJG7",
        "outputId": "9e64b2a1-a13a-4cba-c094-28fe4fa9f566"
      },
      "outputs": [
        {
          "name": "stdout",
          "output_type": "stream",
          "text": [
            "1439\n",
            "1532\n"
          ]
        }
      ],
      "source": [
        "print(count)\n",
        "print(count1)"
      ]
    },
    {
      "cell_type": "code",
      "execution_count": null,
      "metadata": {
        "id": "7RRT7A3ZYSoR"
      },
      "outputs": [],
      "source": [
        "count = 0\n",
        "test_newx_list = []\n",
        "test_newy_list = []\n",
        "for x_pre, x_hyp, y in test_loader:\n",
        "    outputs = model(x_pre,x_hyp)\n",
        "    predicted_labels = torch.argmax(outputs, dim=1).cpu().numpy()\n",
        "    true_labels = torch.argmax(y, dim=1).cpu().numpy()\n",
        "    for i in range(len(predicted_labels)):\n",
        "          predicted_label = predicted_labels[i]\n",
        "          true_label = true_labels[i]\n",
        "          if predicted_label != true_label:\n",
        "             #enc\n",
        "             #count = count + 1\n",
        "             #print(count)\n",
        "             premise = x_pre[i]\n",
        "             hypothesis = x_hyp[i]\n",
        "             test_newx_list.append((premise,hypothesis))\n",
        "             test_newy_list.append([0,1])\n",
        "             #print(premise)\n",
        "             #print(hypothesis)\n",
        "             #print('predicted: '+str(get_inf_from_num(predicted_label)))\n",
        "             #print('actual: '+str(get_inf_from_num(true_label)))\n",
        "             #print('------------------------------------------')\n",
        "          else:\n",
        "             premise = x_pre[i]\n",
        "             hypothesis = x_hyp[i]\n",
        "             test_newx_list.append((premise,hypothesis))\n",
        "             test_newy_list.append([1,0])\n",
        "    #print('================================================')"
      ]
    },
    {
      "cell_type": "code",
      "execution_count": null,
      "metadata": {
        "id": "dHEb9Li9Z3Bp"
      },
      "outputs": [],
      "source": [
        "count = 0\n",
        "val_newx_list = []\n",
        "val_newy_list = []\n",
        "for x_pre, x_hyp, y in val_loader:\n",
        "    outputs = model(x_pre,x_hyp)\n",
        "    predicted_labels = torch.argmax(outputs, dim=1).cpu().numpy()\n",
        "    true_labels = torch.argmax(y, dim=1).cpu().numpy()\n",
        "    for i in range(len(predicted_labels)):\n",
        "          predicted_label = predicted_labels[i]\n",
        "          true_label = true_labels[i]\n",
        "          if predicted_label != true_label:\n",
        "             #enc\n",
        "             #count = count + 1\n",
        "             #print(count)\n",
        "             premise = x_pre[i]\n",
        "             hypothesis = x_hyp[i]\n",
        "             val_newx_list.append((premise,hypothesis))\n",
        "             val_newy_list.append([0,1])\n",
        "             #print(premise)\n",
        "             #print(hypothesis)\n",
        "             #print('predicted: '+str(get_inf_from_num(predicted_label)))\n",
        "             #print('actual: '+str(get_inf_from_num(true_label)))\n",
        "             #print('------------------------------------------')\n",
        "          else:\n",
        "             premise = x_pre[i]\n",
        "             hypothesis = x_hyp[i]\n",
        "             val_newx_list.append((premise,hypothesis))\n",
        "             val_newy_list.append([1,0])\n",
        "    #print('================================================')"
      ]
    },
    {
      "cell_type": "code",
      "execution_count": null,
      "metadata": {
        "id": "QMqdIFv_NTt3"
      },
      "outputs": [],
      "source": [
        "newtrain_dataset = CustomDataset(train_newx_list,train_newy_list)\n",
        "newtest_dataset = CustomDataset(test_newx_list,test_newy_list)\n",
        "newval_dataset = CustomDataset(val_newx_list,val_newy_list)"
      ]
    },
    {
      "cell_type": "code",
      "execution_count": null,
      "metadata": {
        "id": "MPoSYmpQNuHQ"
      },
      "outputs": [],
      "source": [
        "newtrain_loader = torch.utils.data.DataLoader(newtrain_dataset, batch_size=bsize, shuffle=True)\n",
        "newval_loader = torch.utils.data.DataLoader(newval_dataset, batch_size=bsize, shuffle=True)\n",
        "newtest_loader = torch.utils.data.DataLoader(newtest_dataset, batch_size=bsize, shuffle=True)"
      ]
    },
    {
      "cell_type": "code",
      "execution_count": null,
      "metadata": {
        "id": "nedFCwlqalgC"
      },
      "outputs": [],
      "source": [
        "class NNN(nn.Module):\n",
        "    def __init__(self):\n",
        "        super(NNN, self).__init__()\n",
        "        self.dropout1 = nn.Dropout(0.1)\n",
        "        self.dropout2 = nn.Dropout(0.1)\n",
        "        self.transformer1 = Transformer(src_vocab_size, src_pad_idx).to(device)\n",
        "        self.transformer2 = Transformer(src_vocab_size, src_pad_idx).to(device)\n",
        "        self.fc1 = nn.Linear(768*2, 256).to(device)\n",
        "        self.fc2 = nn.Linear(256, 2).to(device)\n",
        "\n",
        "    def forward(self, x_pre,x_hyp):\n",
        "        out1 = self.transformer1(x_pre)\n",
        "        out2 = self.transformer2(x_hyp)\n",
        "        out1 = torch.mean(out1,1)\n",
        "        out2 = torch.mean(out2,1)\n",
        "        x = torch.cat((out1,out2),1)\n",
        "        x = F.relu(self.fc1(self.dropout1(x)))\n",
        "        x = nn.functional.softmax(self.fc2(self.dropout2(x)),dim=1)\n",
        "        return x"
      ]
    },
    {
      "cell_type": "code",
      "execution_count": null,
      "metadata": {
        "id": "6rQQvhp2bAzg"
      },
      "outputs": [],
      "source": [
        "newmodel = NNN()\n",
        "criterion = nn.CrossEntropyLoss()\n",
        "optimizer = optim.AdamW(newmodel.parameters(), lr=0.0001)"
      ]
    },
    {
      "cell_type": "code",
      "execution_count": null,
      "metadata": {
        "colab": {
          "base_uri": "https://localhost:8080/",
          "height": 315
        },
        "id": "T_L2azNf0SLa",
        "outputId": "1759da13-79a4-4a53-cda7-3e3a6f81fe36"
      },
      "outputs": [
        {
          "name": "stdout",
          "output_type": "stream",
          "text": [
            "trust num: 694\n",
            "untrust num: 728\n",
            "trust acc: 0.8126801152737753\n",
            "untrust acc: 0.6552197802197802\n",
            "0.6527828574180603\n",
            "==================================\n"
          ]
        },
        {
          "ename": "KeyboardInterrupt",
          "evalue": "",
          "output_type": "error",
          "traceback": [
            "\u001b[0;31m---------------------------------------------------------------------------\u001b[0m",
            "\u001b[0;31mKeyboardInterrupt\u001b[0m                         Traceback (most recent call last)",
            "\u001b[0;32m<ipython-input-123-8fd0504b18f6>\u001b[0m in \u001b[0;36m<cell line: 3>\u001b[0;34m()\u001b[0m\n\u001b[1;32m     13\u001b[0m     \u001b[0mprint\u001b[0m\u001b[0;34m(\u001b[0m\u001b[0mloss\u001b[0m\u001b[0;34m.\u001b[0m\u001b[0mitem\u001b[0m\u001b[0;34m(\u001b[0m\u001b[0;34m)\u001b[0m\u001b[0;34m)\u001b[0m\u001b[0;34m\u001b[0m\u001b[0;34m\u001b[0m\u001b[0m\n\u001b[1;32m     14\u001b[0m     \u001b[0mprint\u001b[0m\u001b[0;34m(\u001b[0m\u001b[0;34m'=================================='\u001b[0m\u001b[0;34m)\u001b[0m\u001b[0;34m\u001b[0m\u001b[0;34m\u001b[0m\u001b[0m\n\u001b[0;32m---> 15\u001b[0;31m     \u001b[0mtime\u001b[0m\u001b[0;34m.\u001b[0m\u001b[0msleep\u001b[0m\u001b[0;34m(\u001b[0m\u001b[0;36m20\u001b[0m\u001b[0;34m)\u001b[0m\u001b[0;34m\u001b[0m\u001b[0;34m\u001b[0m\u001b[0m\n\u001b[0m\u001b[1;32m     16\u001b[0m \u001b[0;34m\u001b[0m\u001b[0m\n\u001b[1;32m     17\u001b[0m \u001b[0mprint\u001b[0m\u001b[0;34m(\u001b[0m\u001b[0;34m'Training completed.'\u001b[0m\u001b[0;34m)\u001b[0m\u001b[0;34m\u001b[0m\u001b[0;34m\u001b[0m\u001b[0m\n",
            "\u001b[0;31mKeyboardInterrupt\u001b[0m: "
          ]
        }
      ],
      "source": [
        "newmodel.train()\n",
        "num_epochs = 60\n",
        "for epoch in range(num_epochs):\n",
        "    for x_pre,x_hyp,y in newtrain_loader:\n",
        "        optimizer.zero_grad()\n",
        "        outputs = newmodel(x_pre,x_hyp)\n",
        "        #print(outputs)\n",
        "        y = y.to(device)\n",
        "        loss = criterion(outputs, y)\n",
        "        loss.backward()\n",
        "        optimizer.step()\n",
        "    X(newmodel)\n",
        "    print(loss.item())\n",
        "    print('==================================')\n",
        "    time.sleep(20)\n",
        "\n",
        "print('Training completed.')"
      ]
    },
    {
      "cell_type": "code",
      "execution_count": null,
      "metadata": {
        "id": "B_TBIGDfg3qx"
      },
      "outputs": [],
      "source": [
        "def get_inference_from_tns(tns):\n",
        "    infr = np.argmax(tns.cpu().detach().numpy())\n",
        "    if infr == 0:\n",
        "       return 'entailment'\n",
        "    elif infr == 1:\n",
        "       return 'neutral'\n",
        "    elif infr == 2:\n",
        "       return 'contradiction'\n",
        "    else:\n",
        "       return 'shouldnt get here'"
      ]
    },
    {
      "cell_type": "code",
      "execution_count": null,
      "metadata": {
        "id": "I_vMtRY2iWqL"
      },
      "outputs": [],
      "source": [
        "def get_trustworthy_from_tns(tns):\n",
        "    infr = np.argmax(tns.cpu().detach().numpy())\n",
        "    if infr == 0:\n",
        "       return 'trustworthy'\n",
        "    elif infr == 1:\n",
        "       return 'untrustworthy'\n",
        "    else:\n",
        "       return 'shouldnt get here'"
      ]
    },
    {
      "cell_type": "code",
      "execution_count": null,
      "metadata": {
        "id": "NjaW3qwqfDuI"
      },
      "outputs": [],
      "source": [
        "newmodel.eval()\n",
        "model.eval()\n",
        "trust_x_list = []\n",
        "untrust_x_list = []\n",
        "trust_y_list = []\n",
        "untrust_y_list = []\n",
        "for x_pre,x_hyp,y in test_loader:\n",
        "        outputs = model(x_pre,x_hyp)\n",
        "        outputs_tw = newmodel(x_pre,x_hyp)\n",
        "        y = y.to(device)\n",
        "        for i in range(len(outputs)):\n",
        "            p = get_inference_from_tns(outputs[i])\n",
        "            t = get_inference_from_tns(y[i])\n",
        "            tw = get_trustworthy_from_tns(outputs_tw[i])\n",
        "            if tw == 'trustworthy':\n",
        "               trust_x_list.append((x_pre[i],x_hyp[i]))\n",
        "               trust_y_list.append(y[i].tolist())\n",
        "            elif tw == 'untrustworthy':\n",
        "               untrust_x_list.append((x_pre[i],x_hyp[i]))\n",
        "               untrust_y_list.append(y[i].tolist())\n",
        "            else:\n",
        "               print('shouldnt get here')"
      ]
    },
    {
      "cell_type": "code",
      "execution_count": null,
      "metadata": {
        "id": "nT6uUsNCljS9"
      },
      "outputs": [],
      "source": [
        "trust_test_dataset = CustomDataset(trust_x_list,trust_y_list)\n",
        "untrust_test_dataset = CustomDataset(untrust_x_list,untrust_y_list)"
      ]
    },
    {
      "cell_type": "code",
      "execution_count": null,
      "metadata": {
        "id": "C8Vx4gHlneZS"
      },
      "outputs": [],
      "source": [
        "trust_test_loader = torch.utils.data.DataLoader(trust_test_dataset, batch_size=32, shuffle=True)\n",
        "untrust_test_loader = torch.utils.data.DataLoader(untrust_test_dataset, batch_size=32, shuffle=True)"
      ]
    },
    {
      "cell_type": "code",
      "execution_count": 131,
      "metadata": {
        "id": "9HekrUeJ_tTH"
      },
      "outputs": [],
      "source": [
        "def get_trust_untrust_dataset(trustmodel,data_loader):\n",
        "    trustmodel.eval()\n",
        "    model.eval()\n",
        "    trust_x_list = []\n",
        "    untrust_x_list = []\n",
        "    trust_y_list = []\n",
        "    untrust_y_list = []\n",
        "    for x_pre,x_hyp,y in data_loader:\n",
        "        outputs = model(x_pre,x_hyp)\n",
        "        outputs_tw = trustmodel(x_pre,x_hyp)\n",
        "        y = y.to(device)\n",
        "        for i in range(len(outputs)):\n",
        "                 p = get_inference_from_tns(outputs[i])\n",
        "                 t = get_inference_from_tns(y[i])\n",
        "                 tw = get_trustworthy_from_tns(outputs_tw[i])\n",
        "                 if tw == 'trustworthy':\n",
        "                    trust_x_list.append((x_pre[i],x_hyp[i]))\n",
        "                    trust_y_list.append(y[i].tolist())\n",
        "                 elif tw == 'untrustworthy':\n",
        "                    untrust_x_list.append((x_pre[i],x_hyp[i]))\n",
        "                    untrust_y_list.append(y[i].tolist())\n",
        "                 else:\n",
        "                    print('shouldnt get here')\n",
        "    trust_dataset = CustomDataset(trust_x_list,trust_y_list)\n",
        "    untrust_dataset = CustomDataset(untrust_x_list,untrust_y_list)\n",
        "    return trust_dataset,untrust_dataset\n",
        "    #trust_test_loader = torch.utils.data.DataLoader(trust_test_dataset, batch_size=32, shuffle=True)\n",
        "    #untrust_test_loader = torch.utils.data.DataLoader(untrust_test_dataset, batch_size=32, shuffle=True)\n",
        "    #print('trust num: ' + str(len(trust_y_list)))\n",
        "    #print('untrust num: ' + str(len(untrust_y_list)))\n",
        "    #print('trust acc: ' + str(get_model_acc(model,trust_test_loader)))\n",
        "    #print('untrust acc: ' + str(get_model_acc(model,untrust_test_loader)))"
      ]
    },
    {
      "cell_type": "code",
      "source": [
        "trust_train_dataset,untrust_train_dataset = get_trust_untrust_dataset(newmodel,train_loader)\n",
        "trust_val_dataset,untrust_val_dataset = get_trust_untrust_dataset(newmodel,val_loader)\n",
        "trust_test_dataset,untrust_test_dataset = get_trust_untrust_dataset(newmodel,test_loader)"
      ],
      "metadata": {
        "id": "ym_VzGSPBM1U"
      },
      "execution_count": 132,
      "outputs": []
    },
    {
      "cell_type": "code",
      "source": [
        "trust_train_loader = torch.utils.data.DataLoader(trust_train_dataset, batch_size=32, shuffle=True)\n",
        "untrust_train_loader = torch.utils.data.DataLoader(untrust_train_dataset, batch_size=32, shuffle=True)\n",
        "trust_val_loader = torch.utils.data.DataLoader(trust_val_dataset, batch_size=32, shuffle=True)\n",
        "untrust_val_loader = torch.utils.data.DataLoader(untrust_val_dataset, batch_size=32, shuffle=True)\n",
        "trust_test_loader = torch.utils.data.DataLoader(trust_test_dataset, batch_size=32, shuffle=True)\n",
        "untrust_test_loader = torch.utils.data.DataLoader(untrust_test_dataset, batch_size=32, shuffle=True)"
      ],
      "metadata": {
        "id": "G1ucHZLPDcdm"
      },
      "execution_count": 133,
      "outputs": []
    },
    {
      "cell_type": "code",
      "execution_count": null,
      "metadata": {
        "colab": {
          "base_uri": "https://localhost:8080/"
        },
        "id": "rdytaf98ouri",
        "outputId": "553f0e30-0080-464b-86af-db252b86f7e7"
      },
      "outputs": [
        {
          "data": {
            "text/plain": [
              "0.7334739803094233"
            ]
          },
          "execution_count": 87,
          "metadata": {},
          "output_type": "execute_result"
        }
      ],
      "source": [
        "get_model_acc(model,test_loader)"
      ]
    },
    {
      "cell_type": "code",
      "execution_count": 134,
      "metadata": {
        "colab": {
          "base_uri": "https://localhost:8080/"
        },
        "id": "X00z-l3bo30a",
        "outputId": "eab38bcf-4824-40e0-edf5-ad5aa7a75db8"
      },
      "outputs": [
        {
          "output_type": "execute_result",
          "data": {
            "text/plain": [
              "0.657967032967033"
            ]
          },
          "metadata": {},
          "execution_count": 134
        }
      ],
      "source": [
        "get_model_acc(model,untrust_test_loader)"
      ]
    },
    {
      "cell_type": "code",
      "execution_count": 135,
      "metadata": {
        "colab": {
          "base_uri": "https://localhost:8080/"
        },
        "id": "tlDgOaB9U3bX",
        "outputId": "d10262c2-e23c-46c8-8adc-1fe518bcfc7d"
      },
      "outputs": [
        {
          "output_type": "execute_result",
          "data": {
            "text/plain": [
              "0.8112391930835735"
            ]
          },
          "metadata": {},
          "execution_count": 135
        }
      ],
      "source": [
        "get_model_acc(model,trust_test_loader)"
      ]
    },
    {
      "cell_type": "code",
      "source": [
        "get_model_acc(model,untrust_train_loader)"
      ],
      "metadata": {
        "colab": {
          "base_uri": "https://localhost:8080/"
        },
        "id": "wC96SizVD7tl",
        "outputId": "d892ebf8-97bb-4240-8a13-2d3617d8d7b3"
      },
      "execution_count": 136,
      "outputs": [
        {
          "output_type": "execute_result",
          "data": {
            "text/plain": [
              "0.8213968366802914"
            ]
          },
          "metadata": {},
          "execution_count": 136
        }
      ]
    },
    {
      "cell_type": "code",
      "source": [
        "get_model_acc(model,trust_train_loader)"
      ],
      "metadata": {
        "colab": {
          "base_uri": "https://localhost:8080/"
        },
        "id": "5M4ArBYSEEoW",
        "outputId": "07cbf2ac-ebc2-4921-dbf4-d5f95f3d4ecf"
      },
      "execution_count": 137,
      "outputs": [
        {
          "output_type": "execute_result",
          "data": {
            "text/plain": [
              "0.919892952720785"
            ]
          },
          "metadata": {},
          "execution_count": 137
        }
      ]
    },
    {
      "cell_type": "code",
      "source": [
        "get_model_acc(model,untrust_val_loader)"
      ],
      "metadata": {
        "colab": {
          "base_uri": "https://localhost:8080/"
        },
        "id": "4NEOEDQZEGyz",
        "outputId": "74e7cb1f-71d6-4095-956a-68ff5f127325"
      },
      "execution_count": 138,
      "outputs": [
        {
          "output_type": "execute_result",
          "data": {
            "text/plain": [
              "0.6657223796033994"
            ]
          },
          "metadata": {},
          "execution_count": 138
        }
      ]
    },
    {
      "cell_type": "code",
      "source": [
        "get_model_acc(model,trust_val_loader)"
      ],
      "metadata": {
        "colab": {
          "base_uri": "https://localhost:8080/"
        },
        "id": "uuI5X-S5EKKY",
        "outputId": "03942139-247a-41cd-e924-89ca7015d4ae"
      },
      "execution_count": 139,
      "outputs": [
        {
          "output_type": "execute_result",
          "data": {
            "text/plain": [
              "0.795355587808418"
            ]
          },
          "metadata": {},
          "execution_count": 139
        }
      ]
    },
    {
      "cell_type": "code",
      "execution_count": null,
      "metadata": {
        "id": "9_mRcu159KaH"
      },
      "outputs": [],
      "source": [
        "torch.save(newmodel,'TrustModelw1.pth')"
      ]
    },
    {
      "cell_type": "code",
      "execution_count": null,
      "metadata": {
        "colab": {
          "base_uri": "https://localhost:8080/",
          "height": 35
        },
        "id": "EYK558FUVyXK",
        "outputId": "27fd59b6-432d-432e-bbed-58cd5c8f4a21"
      },
      "outputs": [
        {
          "data": {
            "application/vnd.google.colaboratory.intrinsic+json": {
              "type": "string"
            },
            "text/plain": [
              "'/content/drive/My Drive/TrustModelw1.pth'"
            ]
          },
          "execution_count": 125,
          "metadata": {},
          "output_type": "execute_result"
        }
      ],
      "source": [
        "source_file_path = \"TrustModelw1.pth\"\n",
        "destination_folder = \"/content/drive/My Drive/TrustModelw1.pth\"\n",
        "shutil.copy(source_file_path, destination_folder)"
      ]
    }
  ],
  "metadata": {
    "accelerator": "GPU",
    "colab": {
      "gpuType": "T4",
      "provenance": []
    },
    "kernelspec": {
      "display_name": "Python 3",
      "name": "python3"
    },
    "language_info": {
      "name": "python"
    },
    "widgets": {
      "application/vnd.jupyter.widget-state+json": {
        "062e17c7cc0f42fe98ec145587bac63b": {
          "model_module": "@jupyter-widgets/base",
          "model_module_version": "1.2.0",
          "model_name": "LayoutModel",
          "state": {
            "_model_module": "@jupyter-widgets/base",
            "_model_module_version": "1.2.0",
            "_model_name": "LayoutModel",
            "_view_count": null,
            "_view_module": "@jupyter-widgets/base",
            "_view_module_version": "1.2.0",
            "_view_name": "LayoutView",
            "align_content": null,
            "align_items": null,
            "align_self": null,
            "border": null,
            "bottom": null,
            "display": null,
            "flex": null,
            "flex_flow": null,
            "grid_area": null,
            "grid_auto_columns": null,
            "grid_auto_flow": null,
            "grid_auto_rows": null,
            "grid_column": null,
            "grid_gap": null,
            "grid_row": null,
            "grid_template_areas": null,
            "grid_template_columns": null,
            "grid_template_rows": null,
            "height": null,
            "justify_content": null,
            "justify_items": null,
            "left": null,
            "margin": null,
            "max_height": null,
            "max_width": null,
            "min_height": null,
            "min_width": null,
            "object_fit": null,
            "object_position": null,
            "order": null,
            "overflow": null,
            "overflow_x": null,
            "overflow_y": null,
            "padding": null,
            "right": null,
            "top": null,
            "visibility": null,
            "width": null
          }
        },
        "07f649beb3c0495c981e606a43be2612": {
          "model_module": "@jupyter-widgets/controls",
          "model_module_version": "1.5.0",
          "model_name": "ProgressStyleModel",
          "state": {
            "_model_module": "@jupyter-widgets/controls",
            "_model_module_version": "1.5.0",
            "_model_name": "ProgressStyleModel",
            "_view_count": null,
            "_view_module": "@jupyter-widgets/base",
            "_view_module_version": "1.2.0",
            "_view_name": "StyleView",
            "bar_color": null,
            "description_width": ""
          }
        },
        "0a59b65be05646bc8cb0a9e8a11849ea": {
          "model_module": "@jupyter-widgets/controls",
          "model_module_version": "1.5.0",
          "model_name": "DescriptionStyleModel",
          "state": {
            "_model_module": "@jupyter-widgets/controls",
            "_model_module_version": "1.5.0",
            "_model_name": "DescriptionStyleModel",
            "_view_count": null,
            "_view_module": "@jupyter-widgets/base",
            "_view_module_version": "1.2.0",
            "_view_name": "StyleView",
            "description_width": ""
          }
        },
        "0df5f6158e094210a29b01a27d4a7deb": {
          "model_module": "@jupyter-widgets/controls",
          "model_module_version": "1.5.0",
          "model_name": "DescriptionStyleModel",
          "state": {
            "_model_module": "@jupyter-widgets/controls",
            "_model_module_version": "1.5.0",
            "_model_name": "DescriptionStyleModel",
            "_view_count": null,
            "_view_module": "@jupyter-widgets/base",
            "_view_module_version": "1.2.0",
            "_view_name": "StyleView",
            "description_width": ""
          }
        },
        "0f3de32ab20847cfb8b1202a7e236591": {
          "model_module": "@jupyter-widgets/base",
          "model_module_version": "1.2.0",
          "model_name": "LayoutModel",
          "state": {
            "_model_module": "@jupyter-widgets/base",
            "_model_module_version": "1.2.0",
            "_model_name": "LayoutModel",
            "_view_count": null,
            "_view_module": "@jupyter-widgets/base",
            "_view_module_version": "1.2.0",
            "_view_name": "LayoutView",
            "align_content": null,
            "align_items": null,
            "align_self": null,
            "border": null,
            "bottom": null,
            "display": null,
            "flex": null,
            "flex_flow": null,
            "grid_area": null,
            "grid_auto_columns": null,
            "grid_auto_flow": null,
            "grid_auto_rows": null,
            "grid_column": null,
            "grid_gap": null,
            "grid_row": null,
            "grid_template_areas": null,
            "grid_template_columns": null,
            "grid_template_rows": null,
            "height": null,
            "justify_content": null,
            "justify_items": null,
            "left": null,
            "margin": null,
            "max_height": null,
            "max_width": null,
            "min_height": null,
            "min_width": null,
            "object_fit": null,
            "object_position": null,
            "order": null,
            "overflow": null,
            "overflow_x": null,
            "overflow_y": null,
            "padding": null,
            "right": null,
            "top": null,
            "visibility": null,
            "width": null
          }
        },
        "1e761069f96549be8b747276b6d57df8": {
          "model_module": "@jupyter-widgets/base",
          "model_module_version": "1.2.0",
          "model_name": "LayoutModel",
          "state": {
            "_model_module": "@jupyter-widgets/base",
            "_model_module_version": "1.2.0",
            "_model_name": "LayoutModel",
            "_view_count": null,
            "_view_module": "@jupyter-widgets/base",
            "_view_module_version": "1.2.0",
            "_view_name": "LayoutView",
            "align_content": null,
            "align_items": null,
            "align_self": null,
            "border": null,
            "bottom": null,
            "display": null,
            "flex": null,
            "flex_flow": null,
            "grid_area": null,
            "grid_auto_columns": null,
            "grid_auto_flow": null,
            "grid_auto_rows": null,
            "grid_column": null,
            "grid_gap": null,
            "grid_row": null,
            "grid_template_areas": null,
            "grid_template_columns": null,
            "grid_template_rows": null,
            "height": null,
            "justify_content": null,
            "justify_items": null,
            "left": null,
            "margin": null,
            "max_height": null,
            "max_width": null,
            "min_height": null,
            "min_width": null,
            "object_fit": null,
            "object_position": null,
            "order": null,
            "overflow": null,
            "overflow_x": null,
            "overflow_y": null,
            "padding": null,
            "right": null,
            "top": null,
            "visibility": null,
            "width": null
          }
        },
        "203e01ec1adb4a08bfd765d1a3bfeca5": {
          "model_module": "@jupyter-widgets/controls",
          "model_module_version": "1.5.0",
          "model_name": "HTMLModel",
          "state": {
            "_dom_classes": [],
            "_model_module": "@jupyter-widgets/controls",
            "_model_module_version": "1.5.0",
            "_model_name": "HTMLModel",
            "_view_count": null,
            "_view_module": "@jupyter-widgets/controls",
            "_view_module_version": "1.5.0",
            "_view_name": "HTMLView",
            "description": "",
            "description_tooltip": null,
            "layout": "IPY_MODEL_90c1eba72cf1447f843d2a8e49ea18fa",
            "placeholder": "​",
            "style": "IPY_MODEL_fcdcce86fa2a45e684e7341e0aa313d4",
            "value": " 112/112 [00:00&lt;00:00, 6.81kB/s]"
          }
        },
        "22356ce193bb4186b33f00648cddd71c": {
          "model_module": "@jupyter-widgets/controls",
          "model_module_version": "1.5.0",
          "model_name": "ProgressStyleModel",
          "state": {
            "_model_module": "@jupyter-widgets/controls",
            "_model_module_version": "1.5.0",
            "_model_name": "ProgressStyleModel",
            "_view_count": null,
            "_view_module": "@jupyter-widgets/base",
            "_view_module_version": "1.2.0",
            "_view_name": "StyleView",
            "bar_color": null,
            "description_width": ""
          }
        },
        "27c8fa566e0e4259ba70734958bb1f1e": {
          "model_module": "@jupyter-widgets/controls",
          "model_module_version": "1.5.0",
          "model_name": "FloatProgressModel",
          "state": {
            "_dom_classes": [],
            "_model_module": "@jupyter-widgets/controls",
            "_model_module_version": "1.5.0",
            "_model_name": "FloatProgressModel",
            "_view_count": null,
            "_view_module": "@jupyter-widgets/controls",
            "_view_module_version": "1.5.0",
            "_view_name": "ProgressView",
            "bar_style": "success",
            "description": "",
            "description_tooltip": null,
            "layout": "IPY_MODEL_5a337f2a698349c99ae7876482a6a7d2",
            "max": 213450,
            "min": 0,
            "orientation": "horizontal",
            "style": "IPY_MODEL_9b6753f6e38b463999ffaaa09ff11901",
            "value": 213450
          }
        },
        "2b6852bbc6204ecdbbd49e3168189ecb": {
          "model_module": "@jupyter-widgets/base",
          "model_module_version": "1.2.0",
          "model_name": "LayoutModel",
          "state": {
            "_model_module": "@jupyter-widgets/base",
            "_model_module_version": "1.2.0",
            "_model_name": "LayoutModel",
            "_view_count": null,
            "_view_module": "@jupyter-widgets/base",
            "_view_module_version": "1.2.0",
            "_view_name": "LayoutView",
            "align_content": null,
            "align_items": null,
            "align_self": null,
            "border": null,
            "bottom": null,
            "display": null,
            "flex": null,
            "flex_flow": null,
            "grid_area": null,
            "grid_auto_columns": null,
            "grid_auto_flow": null,
            "grid_auto_rows": null,
            "grid_column": null,
            "grid_gap": null,
            "grid_row": null,
            "grid_template_areas": null,
            "grid_template_columns": null,
            "grid_template_rows": null,
            "height": null,
            "justify_content": null,
            "justify_items": null,
            "left": null,
            "margin": null,
            "max_height": null,
            "max_width": null,
            "min_height": null,
            "min_width": null,
            "object_fit": null,
            "object_position": null,
            "order": null,
            "overflow": null,
            "overflow_x": null,
            "overflow_y": null,
            "padding": null,
            "right": null,
            "top": null,
            "visibility": null,
            "width": null
          }
        },
        "2bf31f52f203477b8cc5072bdcc7bbdb": {
          "model_module": "@jupyter-widgets/controls",
          "model_module_version": "1.5.0",
          "model_name": "FloatProgressModel",
          "state": {
            "_dom_classes": [],
            "_model_module": "@jupyter-widgets/controls",
            "_model_module_version": "1.5.0",
            "_model_name": "FloatProgressModel",
            "_view_count": null,
            "_view_module": "@jupyter-widgets/controls",
            "_view_module_version": "1.5.0",
            "_view_name": "ProgressView",
            "bar_style": "success",
            "description": "",
            "description_tooltip": null,
            "layout": "IPY_MODEL_1e761069f96549be8b747276b6d57df8",
            "max": 454,
            "min": 0,
            "orientation": "horizontal",
            "style": "IPY_MODEL_6ce802d6b7544dff9441e11c3006ae06",
            "value": 454
          }
        },
        "378914546d634c0082b1f823e2fda343": {
          "model_module": "@jupyter-widgets/base",
          "model_module_version": "1.2.0",
          "model_name": "LayoutModel",
          "state": {
            "_model_module": "@jupyter-widgets/base",
            "_model_module_version": "1.2.0",
            "_model_name": "LayoutModel",
            "_view_count": null,
            "_view_module": "@jupyter-widgets/base",
            "_view_module_version": "1.2.0",
            "_view_name": "LayoutView",
            "align_content": null,
            "align_items": null,
            "align_self": null,
            "border": null,
            "bottom": null,
            "display": null,
            "flex": null,
            "flex_flow": null,
            "grid_area": null,
            "grid_auto_columns": null,
            "grid_auto_flow": null,
            "grid_auto_rows": null,
            "grid_column": null,
            "grid_gap": null,
            "grid_row": null,
            "grid_template_areas": null,
            "grid_template_columns": null,
            "grid_template_rows": null,
            "height": null,
            "justify_content": null,
            "justify_items": null,
            "left": null,
            "margin": null,
            "max_height": null,
            "max_width": null,
            "min_height": null,
            "min_width": null,
            "object_fit": null,
            "object_position": null,
            "order": null,
            "overflow": null,
            "overflow_x": null,
            "overflow_y": null,
            "padding": null,
            "right": null,
            "top": null,
            "visibility": null,
            "width": null
          }
        },
        "3a2340563c8a40f8b445c844f3554a79": {
          "model_module": "@jupyter-widgets/base",
          "model_module_version": "1.2.0",
          "model_name": "LayoutModel",
          "state": {
            "_model_module": "@jupyter-widgets/base",
            "_model_module_version": "1.2.0",
            "_model_name": "LayoutModel",
            "_view_count": null,
            "_view_module": "@jupyter-widgets/base",
            "_view_module_version": "1.2.0",
            "_view_name": "LayoutView",
            "align_content": null,
            "align_items": null,
            "align_self": null,
            "border": null,
            "bottom": null,
            "display": null,
            "flex": null,
            "flex_flow": null,
            "grid_area": null,
            "grid_auto_columns": null,
            "grid_auto_flow": null,
            "grid_auto_rows": null,
            "grid_column": null,
            "grid_gap": null,
            "grid_row": null,
            "grid_template_areas": null,
            "grid_template_columns": null,
            "grid_template_rows": null,
            "height": null,
            "justify_content": null,
            "justify_items": null,
            "left": null,
            "margin": null,
            "max_height": null,
            "max_width": null,
            "min_height": null,
            "min_width": null,
            "object_fit": null,
            "object_position": null,
            "order": null,
            "overflow": null,
            "overflow_x": null,
            "overflow_y": null,
            "padding": null,
            "right": null,
            "top": null,
            "visibility": null,
            "width": null
          }
        },
        "40ba0ac92d1648dfad55271ac1ac4a38": {
          "model_module": "@jupyter-widgets/base",
          "model_module_version": "1.2.0",
          "model_name": "LayoutModel",
          "state": {
            "_model_module": "@jupyter-widgets/base",
            "_model_module_version": "1.2.0",
            "_model_name": "LayoutModel",
            "_view_count": null,
            "_view_module": "@jupyter-widgets/base",
            "_view_module_version": "1.2.0",
            "_view_name": "LayoutView",
            "align_content": null,
            "align_items": null,
            "align_self": null,
            "border": null,
            "bottom": null,
            "display": null,
            "flex": null,
            "flex_flow": null,
            "grid_area": null,
            "grid_auto_columns": null,
            "grid_auto_flow": null,
            "grid_auto_rows": null,
            "grid_column": null,
            "grid_gap": null,
            "grid_row": null,
            "grid_template_areas": null,
            "grid_template_columns": null,
            "grid_template_rows": null,
            "height": null,
            "justify_content": null,
            "justify_items": null,
            "left": null,
            "margin": null,
            "max_height": null,
            "max_width": null,
            "min_height": null,
            "min_width": null,
            "object_fit": null,
            "object_position": null,
            "order": null,
            "overflow": null,
            "overflow_x": null,
            "overflow_y": null,
            "padding": null,
            "right": null,
            "top": null,
            "visibility": null,
            "width": null
          }
        },
        "418d333499814746beca2ff2f4bd37c4": {
          "model_module": "@jupyter-widgets/base",
          "model_module_version": "1.2.0",
          "model_name": "LayoutModel",
          "state": {
            "_model_module": "@jupyter-widgets/base",
            "_model_module_version": "1.2.0",
            "_model_name": "LayoutModel",
            "_view_count": null,
            "_view_module": "@jupyter-widgets/base",
            "_view_module_version": "1.2.0",
            "_view_name": "LayoutView",
            "align_content": null,
            "align_items": null,
            "align_self": null,
            "border": null,
            "bottom": null,
            "display": null,
            "flex": null,
            "flex_flow": null,
            "grid_area": null,
            "grid_auto_columns": null,
            "grid_auto_flow": null,
            "grid_auto_rows": null,
            "grid_column": null,
            "grid_gap": null,
            "grid_row": null,
            "grid_template_areas": null,
            "grid_template_columns": null,
            "grid_template_rows": null,
            "height": null,
            "justify_content": null,
            "justify_items": null,
            "left": null,
            "margin": null,
            "max_height": null,
            "max_width": null,
            "min_height": null,
            "min_width": null,
            "object_fit": null,
            "object_position": null,
            "order": null,
            "overflow": null,
            "overflow_x": null,
            "overflow_y": null,
            "padding": null,
            "right": null,
            "top": null,
            "visibility": null,
            "width": null
          }
        },
        "468d3dd1e64f422a8992f1310bd543e7": {
          "model_module": "@jupyter-widgets/controls",
          "model_module_version": "1.5.0",
          "model_name": "FloatProgressModel",
          "state": {
            "_dom_classes": [],
            "_model_module": "@jupyter-widgets/controls",
            "_model_module_version": "1.5.0",
            "_model_name": "FloatProgressModel",
            "_view_count": null,
            "_view_module": "@jupyter-widgets/controls",
            "_view_module_version": "1.5.0",
            "_view_name": "ProgressView",
            "bar_style": "success",
            "description": "",
            "description_tooltip": null,
            "layout": "IPY_MODEL_378914546d634c0082b1f823e2fda343",
            "max": 112,
            "min": 0,
            "orientation": "horizontal",
            "style": "IPY_MODEL_22356ce193bb4186b33f00648cddd71c",
            "value": 112
          }
        },
        "4acb23ffd31049a99ef22a1870929b82": {
          "model_module": "@jupyter-widgets/controls",
          "model_module_version": "1.5.0",
          "model_name": "HTMLModel",
          "state": {
            "_dom_classes": [],
            "_model_module": "@jupyter-widgets/controls",
            "_model_module_version": "1.5.0",
            "_model_name": "HTMLModel",
            "_view_count": null,
            "_view_module": "@jupyter-widgets/controls",
            "_view_module_version": "1.5.0",
            "_view_name": "HTMLView",
            "description": "",
            "description_tooltip": null,
            "layout": "IPY_MODEL_3a2340563c8a40f8b445c844f3554a79",
            "placeholder": "​",
            "style": "IPY_MODEL_0a59b65be05646bc8cb0a9e8a11849ea",
            "value": " 136/136 [00:00&lt;00:00, 9.94kB/s]"
          }
        },
        "4c3b5a2bd3c840278305c61a44def18d": {
          "model_module": "@jupyter-widgets/base",
          "model_module_version": "1.2.0",
          "model_name": "LayoutModel",
          "state": {
            "_model_module": "@jupyter-widgets/base",
            "_model_module_version": "1.2.0",
            "_model_name": "LayoutModel",
            "_view_count": null,
            "_view_module": "@jupyter-widgets/base",
            "_view_module_version": "1.2.0",
            "_view_name": "LayoutView",
            "align_content": null,
            "align_items": null,
            "align_self": null,
            "border": null,
            "bottom": null,
            "display": null,
            "flex": null,
            "flex_flow": null,
            "grid_area": null,
            "grid_auto_columns": null,
            "grid_auto_flow": null,
            "grid_auto_rows": null,
            "grid_column": null,
            "grid_gap": null,
            "grid_row": null,
            "grid_template_areas": null,
            "grid_template_columns": null,
            "grid_template_rows": null,
            "height": null,
            "justify_content": null,
            "justify_items": null,
            "left": null,
            "margin": null,
            "max_height": null,
            "max_width": null,
            "min_height": null,
            "min_width": null,
            "object_fit": null,
            "object_position": null,
            "order": null,
            "overflow": null,
            "overflow_x": null,
            "overflow_y": null,
            "padding": null,
            "right": null,
            "top": null,
            "visibility": null,
            "width": null
          }
        },
        "4d16a69ea3a74352be10055cde8e0e5d": {
          "model_module": "@jupyter-widgets/controls",
          "model_module_version": "1.5.0",
          "model_name": "HTMLModel",
          "state": {
            "_dom_classes": [],
            "_model_module": "@jupyter-widgets/controls",
            "_model_module_version": "1.5.0",
            "_model_name": "HTMLModel",
            "_view_count": null,
            "_view_module": "@jupyter-widgets/controls",
            "_view_module_version": "1.5.0",
            "_view_name": "HTMLView",
            "description": "",
            "description_tooltip": null,
            "layout": "IPY_MODEL_55d02e6ebc4c4ad2b2ca76ea35cb41f7",
            "placeholder": "​",
            "style": "IPY_MODEL_7ada472a885b4271a0326e0eec021103",
            "value": " 213k/213k [00:00&lt;00:00, 6.86MB/s]"
          }
        },
        "4e728fdae9724dcaab5da8dbfe81df45": {
          "model_module": "@jupyter-widgets/controls",
          "model_module_version": "1.5.0",
          "model_name": "DescriptionStyleModel",
          "state": {
            "_model_module": "@jupyter-widgets/controls",
            "_model_module_version": "1.5.0",
            "_model_name": "DescriptionStyleModel",
            "_view_count": null,
            "_view_module": "@jupyter-widgets/base",
            "_view_module_version": "1.2.0",
            "_view_name": "StyleView",
            "description_width": ""
          }
        },
        "50d56321743d4b2fa8a1923491f1505f": {
          "model_module": "@jupyter-widgets/base",
          "model_module_version": "1.2.0",
          "model_name": "LayoutModel",
          "state": {
            "_model_module": "@jupyter-widgets/base",
            "_model_module_version": "1.2.0",
            "_model_name": "LayoutModel",
            "_view_count": null,
            "_view_module": "@jupyter-widgets/base",
            "_view_module_version": "1.2.0",
            "_view_name": "LayoutView",
            "align_content": null,
            "align_items": null,
            "align_self": null,
            "border": null,
            "bottom": null,
            "display": null,
            "flex": null,
            "flex_flow": null,
            "grid_area": null,
            "grid_auto_columns": null,
            "grid_auto_flow": null,
            "grid_auto_rows": null,
            "grid_column": null,
            "grid_gap": null,
            "grid_row": null,
            "grid_template_areas": null,
            "grid_template_columns": null,
            "grid_template_rows": null,
            "height": null,
            "justify_content": null,
            "justify_items": null,
            "left": null,
            "margin": null,
            "max_height": null,
            "max_width": null,
            "min_height": null,
            "min_width": null,
            "object_fit": null,
            "object_position": null,
            "order": null,
            "overflow": null,
            "overflow_x": null,
            "overflow_y": null,
            "padding": null,
            "right": null,
            "top": null,
            "visibility": null,
            "width": null
          }
        },
        "51c2833e985440ce92dc30cb2c7e9252": {
          "model_module": "@jupyter-widgets/base",
          "model_module_version": "1.2.0",
          "model_name": "LayoutModel",
          "state": {
            "_model_module": "@jupyter-widgets/base",
            "_model_module_version": "1.2.0",
            "_model_name": "LayoutModel",
            "_view_count": null,
            "_view_module": "@jupyter-widgets/base",
            "_view_module_version": "1.2.0",
            "_view_name": "LayoutView",
            "align_content": null,
            "align_items": null,
            "align_self": null,
            "border": null,
            "bottom": null,
            "display": null,
            "flex": null,
            "flex_flow": null,
            "grid_area": null,
            "grid_auto_columns": null,
            "grid_auto_flow": null,
            "grid_auto_rows": null,
            "grid_column": null,
            "grid_gap": null,
            "grid_row": null,
            "grid_template_areas": null,
            "grid_template_columns": null,
            "grid_template_rows": null,
            "height": null,
            "justify_content": null,
            "justify_items": null,
            "left": null,
            "margin": null,
            "max_height": null,
            "max_width": null,
            "min_height": null,
            "min_width": null,
            "object_fit": null,
            "object_position": null,
            "order": null,
            "overflow": null,
            "overflow_x": null,
            "overflow_y": null,
            "padding": null,
            "right": null,
            "top": null,
            "visibility": null,
            "width": null
          }
        },
        "524ec21cd9b94a4c8951706e9f7e87da": {
          "model_module": "@jupyter-widgets/controls",
          "model_module_version": "1.5.0",
          "model_name": "HTMLModel",
          "state": {
            "_dom_classes": [],
            "_model_module": "@jupyter-widgets/controls",
            "_model_module_version": "1.5.0",
            "_model_name": "HTMLModel",
            "_view_count": null,
            "_view_module": "@jupyter-widgets/controls",
            "_view_module_version": "1.5.0",
            "_view_name": "HTMLView",
            "description": "",
            "description_tooltip": null,
            "layout": "IPY_MODEL_86e5b1793d5b4059b3ca9b8c1bbbbac3",
            "placeholder": "​",
            "style": "IPY_MODEL_0df5f6158e094210a29b01a27d4a7deb",
            "value": " 454/454 [00:00&lt;00:00, 32.7kB/s]"
          }
        },
        "53a995e550ee4cdebce604617ee41bad": {
          "model_module": "@jupyter-widgets/controls",
          "model_module_version": "1.5.0",
          "model_name": "FloatProgressModel",
          "state": {
            "_dom_classes": [],
            "_model_module": "@jupyter-widgets/controls",
            "_model_module_version": "1.5.0",
            "_model_name": "FloatProgressModel",
            "_view_count": null,
            "_view_module": "@jupyter-widgets/controls",
            "_view_module_version": "1.5.0",
            "_view_name": "ProgressView",
            "bar_style": "success",
            "description": "",
            "description_tooltip": null,
            "layout": "IPY_MODEL_062e17c7cc0f42fe98ec145587bac63b",
            "max": 136,
            "min": 0,
            "orientation": "horizontal",
            "style": "IPY_MODEL_9f1adea1aa30450d800730f94aea4da6",
            "value": 136
          }
        },
        "55d02e6ebc4c4ad2b2ca76ea35cb41f7": {
          "model_module": "@jupyter-widgets/base",
          "model_module_version": "1.2.0",
          "model_name": "LayoutModel",
          "state": {
            "_model_module": "@jupyter-widgets/base",
            "_model_module_version": "1.2.0",
            "_model_name": "LayoutModel",
            "_view_count": null,
            "_view_module": "@jupyter-widgets/base",
            "_view_module_version": "1.2.0",
            "_view_name": "LayoutView",
            "align_content": null,
            "align_items": null,
            "align_self": null,
            "border": null,
            "bottom": null,
            "display": null,
            "flex": null,
            "flex_flow": null,
            "grid_area": null,
            "grid_auto_columns": null,
            "grid_auto_flow": null,
            "grid_auto_rows": null,
            "grid_column": null,
            "grid_gap": null,
            "grid_row": null,
            "grid_template_areas": null,
            "grid_template_columns": null,
            "grid_template_rows": null,
            "height": null,
            "justify_content": null,
            "justify_items": null,
            "left": null,
            "margin": null,
            "max_height": null,
            "max_width": null,
            "min_height": null,
            "min_width": null,
            "object_fit": null,
            "object_position": null,
            "order": null,
            "overflow": null,
            "overflow_x": null,
            "overflow_y": null,
            "padding": null,
            "right": null,
            "top": null,
            "visibility": null,
            "width": null
          }
        },
        "5a337f2a698349c99ae7876482a6a7d2": {
          "model_module": "@jupyter-widgets/base",
          "model_module_version": "1.2.0",
          "model_name": "LayoutModel",
          "state": {
            "_model_module": "@jupyter-widgets/base",
            "_model_module_version": "1.2.0",
            "_model_name": "LayoutModel",
            "_view_count": null,
            "_view_module": "@jupyter-widgets/base",
            "_view_module_version": "1.2.0",
            "_view_name": "LayoutView",
            "align_content": null,
            "align_items": null,
            "align_self": null,
            "border": null,
            "bottom": null,
            "display": null,
            "flex": null,
            "flex_flow": null,
            "grid_area": null,
            "grid_auto_columns": null,
            "grid_auto_flow": null,
            "grid_auto_rows": null,
            "grid_column": null,
            "grid_gap": null,
            "grid_row": null,
            "grid_template_areas": null,
            "grid_template_columns": null,
            "grid_template_rows": null,
            "height": null,
            "justify_content": null,
            "justify_items": null,
            "left": null,
            "margin": null,
            "max_height": null,
            "max_width": null,
            "min_height": null,
            "min_width": null,
            "object_fit": null,
            "object_position": null,
            "order": null,
            "overflow": null,
            "overflow_x": null,
            "overflow_y": null,
            "padding": null,
            "right": null,
            "top": null,
            "visibility": null,
            "width": null
          }
        },
        "6ce802d6b7544dff9441e11c3006ae06": {
          "model_module": "@jupyter-widgets/controls",
          "model_module_version": "1.5.0",
          "model_name": "ProgressStyleModel",
          "state": {
            "_model_module": "@jupyter-widgets/controls",
            "_model_module_version": "1.5.0",
            "_model_name": "ProgressStyleModel",
            "_view_count": null,
            "_view_module": "@jupyter-widgets/base",
            "_view_module_version": "1.2.0",
            "_view_name": "StyleView",
            "bar_color": null,
            "description_width": ""
          }
        },
        "6f5c482b24cd44cd8062fae8449a94a1": {
          "model_module": "@jupyter-widgets/base",
          "model_module_version": "1.2.0",
          "model_name": "LayoutModel",
          "state": {
            "_model_module": "@jupyter-widgets/base",
            "_model_module_version": "1.2.0",
            "_model_name": "LayoutModel",
            "_view_count": null,
            "_view_module": "@jupyter-widgets/base",
            "_view_module_version": "1.2.0",
            "_view_name": "LayoutView",
            "align_content": null,
            "align_items": null,
            "align_self": null,
            "border": null,
            "bottom": null,
            "display": null,
            "flex": null,
            "flex_flow": null,
            "grid_area": null,
            "grid_auto_columns": null,
            "grid_auto_flow": null,
            "grid_auto_rows": null,
            "grid_column": null,
            "grid_gap": null,
            "grid_row": null,
            "grid_template_areas": null,
            "grid_template_columns": null,
            "grid_template_rows": null,
            "height": null,
            "justify_content": null,
            "justify_items": null,
            "left": null,
            "margin": null,
            "max_height": null,
            "max_width": null,
            "min_height": null,
            "min_width": null,
            "object_fit": null,
            "object_position": null,
            "order": null,
            "overflow": null,
            "overflow_x": null,
            "overflow_y": null,
            "padding": null,
            "right": null,
            "top": null,
            "visibility": null,
            "width": null
          }
        },
        "74596a9bde894ea0945664c2b8bb5d66": {
          "model_module": "@jupyter-widgets/controls",
          "model_module_version": "1.5.0",
          "model_name": "HTMLModel",
          "state": {
            "_dom_classes": [],
            "_model_module": "@jupyter-widgets/controls",
            "_model_module_version": "1.5.0",
            "_model_name": "HTMLModel",
            "_view_count": null,
            "_view_module": "@jupyter-widgets/controls",
            "_view_module_version": "1.5.0",
            "_view_name": "HTMLView",
            "description": "",
            "description_tooltip": null,
            "layout": "IPY_MODEL_6f5c482b24cd44cd8062fae8449a94a1",
            "placeholder": "​",
            "style": "IPY_MODEL_f4af98c89a8c48c485c52107cf97dc30",
            "value": "pytorch_model.bin: 100%"
          }
        },
        "7ada472a885b4271a0326e0eec021103": {
          "model_module": "@jupyter-widgets/controls",
          "model_module_version": "1.5.0",
          "model_name": "DescriptionStyleModel",
          "state": {
            "_model_module": "@jupyter-widgets/controls",
            "_model_module_version": "1.5.0",
            "_model_name": "DescriptionStyleModel",
            "_view_count": null,
            "_view_module": "@jupyter-widgets/base",
            "_view_module_version": "1.2.0",
            "_view_name": "StyleView",
            "description_width": ""
          }
        },
        "7ef7f7fea60147d29a5e80232432f3fd": {
          "model_module": "@jupyter-widgets/controls",
          "model_module_version": "1.5.0",
          "model_name": "HTMLModel",
          "state": {
            "_dom_classes": [],
            "_model_module": "@jupyter-widgets/controls",
            "_model_module_version": "1.5.0",
            "_model_name": "HTMLModel",
            "_view_count": null,
            "_view_module": "@jupyter-widgets/controls",
            "_view_module_version": "1.5.0",
            "_view_name": "HTMLView",
            "description": "",
            "description_tooltip": null,
            "layout": "IPY_MODEL_4c3b5a2bd3c840278305c61a44def18d",
            "placeholder": "​",
            "style": "IPY_MODEL_e375048e8a3c45fa8718904bc3ec8f32",
            "value": " 433M/433M [00:18&lt;00:00, 25.0MB/s]"
          }
        },
        "86e5b1793d5b4059b3ca9b8c1bbbbac3": {
          "model_module": "@jupyter-widgets/base",
          "model_module_version": "1.2.0",
          "model_name": "LayoutModel",
          "state": {
            "_model_module": "@jupyter-widgets/base",
            "_model_module_version": "1.2.0",
            "_model_name": "LayoutModel",
            "_view_count": null,
            "_view_module": "@jupyter-widgets/base",
            "_view_module_version": "1.2.0",
            "_view_name": "LayoutView",
            "align_content": null,
            "align_items": null,
            "align_self": null,
            "border": null,
            "bottom": null,
            "display": null,
            "flex": null,
            "flex_flow": null,
            "grid_area": null,
            "grid_auto_columns": null,
            "grid_auto_flow": null,
            "grid_auto_rows": null,
            "grid_column": null,
            "grid_gap": null,
            "grid_row": null,
            "grid_template_areas": null,
            "grid_template_columns": null,
            "grid_template_rows": null,
            "height": null,
            "justify_content": null,
            "justify_items": null,
            "left": null,
            "margin": null,
            "max_height": null,
            "max_width": null,
            "min_height": null,
            "min_width": null,
            "object_fit": null,
            "object_position": null,
            "order": null,
            "overflow": null,
            "overflow_x": null,
            "overflow_y": null,
            "padding": null,
            "right": null,
            "top": null,
            "visibility": null,
            "width": null
          }
        },
        "8a3e4e3fc8a54050b0961e2e6d31b249": {
          "model_module": "@jupyter-widgets/base",
          "model_module_version": "1.2.0",
          "model_name": "LayoutModel",
          "state": {
            "_model_module": "@jupyter-widgets/base",
            "_model_module_version": "1.2.0",
            "_model_name": "LayoutModel",
            "_view_count": null,
            "_view_module": "@jupyter-widgets/base",
            "_view_module_version": "1.2.0",
            "_view_name": "LayoutView",
            "align_content": null,
            "align_items": null,
            "align_self": null,
            "border": null,
            "bottom": null,
            "display": null,
            "flex": null,
            "flex_flow": null,
            "grid_area": null,
            "grid_auto_columns": null,
            "grid_auto_flow": null,
            "grid_auto_rows": null,
            "grid_column": null,
            "grid_gap": null,
            "grid_row": null,
            "grid_template_areas": null,
            "grid_template_columns": null,
            "grid_template_rows": null,
            "height": null,
            "justify_content": null,
            "justify_items": null,
            "left": null,
            "margin": null,
            "max_height": null,
            "max_width": null,
            "min_height": null,
            "min_width": null,
            "object_fit": null,
            "object_position": null,
            "order": null,
            "overflow": null,
            "overflow_x": null,
            "overflow_y": null,
            "padding": null,
            "right": null,
            "top": null,
            "visibility": null,
            "width": null
          }
        },
        "8abcc5aa76b848d4aa000c4dab1879dc": {
          "model_module": "@jupyter-widgets/controls",
          "model_module_version": "1.5.0",
          "model_name": "HTMLModel",
          "state": {
            "_dom_classes": [],
            "_model_module": "@jupyter-widgets/controls",
            "_model_module_version": "1.5.0",
            "_model_name": "HTMLModel",
            "_view_count": null,
            "_view_module": "@jupyter-widgets/controls",
            "_view_module_version": "1.5.0",
            "_view_name": "HTMLView",
            "description": "",
            "description_tooltip": null,
            "layout": "IPY_MODEL_8a3e4e3fc8a54050b0961e2e6d31b249",
            "placeholder": "​",
            "style": "IPY_MODEL_4e728fdae9724dcaab5da8dbfe81df45",
            "value": "vocab.txt: 100%"
          }
        },
        "8e8a4979011d4d1ab10e4a0021205dee": {
          "model_module": "@jupyter-widgets/base",
          "model_module_version": "1.2.0",
          "model_name": "LayoutModel",
          "state": {
            "_model_module": "@jupyter-widgets/base",
            "_model_module_version": "1.2.0",
            "_model_name": "LayoutModel",
            "_view_count": null,
            "_view_module": "@jupyter-widgets/base",
            "_view_module_version": "1.2.0",
            "_view_name": "LayoutView",
            "align_content": null,
            "align_items": null,
            "align_self": null,
            "border": null,
            "bottom": null,
            "display": null,
            "flex": null,
            "flex_flow": null,
            "grid_area": null,
            "grid_auto_columns": null,
            "grid_auto_flow": null,
            "grid_auto_rows": null,
            "grid_column": null,
            "grid_gap": null,
            "grid_row": null,
            "grid_template_areas": null,
            "grid_template_columns": null,
            "grid_template_rows": null,
            "height": null,
            "justify_content": null,
            "justify_items": null,
            "left": null,
            "margin": null,
            "max_height": null,
            "max_width": null,
            "min_height": null,
            "min_width": null,
            "object_fit": null,
            "object_position": null,
            "order": null,
            "overflow": null,
            "overflow_x": null,
            "overflow_y": null,
            "padding": null,
            "right": null,
            "top": null,
            "visibility": null,
            "width": null
          }
        },
        "8f3ca77460b443d38f139e9748cc2b63": {
          "model_module": "@jupyter-widgets/controls",
          "model_module_version": "1.5.0",
          "model_name": "HBoxModel",
          "state": {
            "_dom_classes": [],
            "_model_module": "@jupyter-widgets/controls",
            "_model_module_version": "1.5.0",
            "_model_name": "HBoxModel",
            "_view_count": null,
            "_view_module": "@jupyter-widgets/controls",
            "_view_module_version": "1.5.0",
            "_view_name": "HBoxView",
            "box_style": "",
            "children": [
              "IPY_MODEL_ef6bcc392a454e0faf3abde38f689142",
              "IPY_MODEL_468d3dd1e64f422a8992f1310bd543e7",
              "IPY_MODEL_203e01ec1adb4a08bfd765d1a3bfeca5"
            ],
            "layout": "IPY_MODEL_40ba0ac92d1648dfad55271ac1ac4a38"
          }
        },
        "90c1eba72cf1447f843d2a8e49ea18fa": {
          "model_module": "@jupyter-widgets/base",
          "model_module_version": "1.2.0",
          "model_name": "LayoutModel",
          "state": {
            "_model_module": "@jupyter-widgets/base",
            "_model_module_version": "1.2.0",
            "_model_name": "LayoutModel",
            "_view_count": null,
            "_view_module": "@jupyter-widgets/base",
            "_view_module_version": "1.2.0",
            "_view_name": "LayoutView",
            "align_content": null,
            "align_items": null,
            "align_self": null,
            "border": null,
            "bottom": null,
            "display": null,
            "flex": null,
            "flex_flow": null,
            "grid_area": null,
            "grid_auto_columns": null,
            "grid_auto_flow": null,
            "grid_auto_rows": null,
            "grid_column": null,
            "grid_gap": null,
            "grid_row": null,
            "grid_template_areas": null,
            "grid_template_columns": null,
            "grid_template_rows": null,
            "height": null,
            "justify_content": null,
            "justify_items": null,
            "left": null,
            "margin": null,
            "max_height": null,
            "max_width": null,
            "min_height": null,
            "min_width": null,
            "object_fit": null,
            "object_position": null,
            "order": null,
            "overflow": null,
            "overflow_x": null,
            "overflow_y": null,
            "padding": null,
            "right": null,
            "top": null,
            "visibility": null,
            "width": null
          }
        },
        "9323b2c5aec54d21bd3ba9d10f897d1f": {
          "model_module": "@jupyter-widgets/base",
          "model_module_version": "1.2.0",
          "model_name": "LayoutModel",
          "state": {
            "_model_module": "@jupyter-widgets/base",
            "_model_module_version": "1.2.0",
            "_model_name": "LayoutModel",
            "_view_count": null,
            "_view_module": "@jupyter-widgets/base",
            "_view_module_version": "1.2.0",
            "_view_name": "LayoutView",
            "align_content": null,
            "align_items": null,
            "align_self": null,
            "border": null,
            "bottom": null,
            "display": null,
            "flex": null,
            "flex_flow": null,
            "grid_area": null,
            "grid_auto_columns": null,
            "grid_auto_flow": null,
            "grid_auto_rows": null,
            "grid_column": null,
            "grid_gap": null,
            "grid_row": null,
            "grid_template_areas": null,
            "grid_template_columns": null,
            "grid_template_rows": null,
            "height": null,
            "justify_content": null,
            "justify_items": null,
            "left": null,
            "margin": null,
            "max_height": null,
            "max_width": null,
            "min_height": null,
            "min_width": null,
            "object_fit": null,
            "object_position": null,
            "order": null,
            "overflow": null,
            "overflow_x": null,
            "overflow_y": null,
            "padding": null,
            "right": null,
            "top": null,
            "visibility": null,
            "width": null
          }
        },
        "957205d2f9d249d494d5bd3d6fe9e2ca": {
          "model_module": "@jupyter-widgets/controls",
          "model_module_version": "1.5.0",
          "model_name": "HBoxModel",
          "state": {
            "_dom_classes": [],
            "_model_module": "@jupyter-widgets/controls",
            "_model_module_version": "1.5.0",
            "_model_name": "HBoxModel",
            "_view_count": null,
            "_view_module": "@jupyter-widgets/controls",
            "_view_module_version": "1.5.0",
            "_view_name": "HBoxView",
            "box_style": "",
            "children": [
              "IPY_MODEL_ab00e150eb4f4203aa0279d16c53691b",
              "IPY_MODEL_53a995e550ee4cdebce604617ee41bad",
              "IPY_MODEL_4acb23ffd31049a99ef22a1870929b82"
            ],
            "layout": "IPY_MODEL_cfed3e20aa3b44c09edacdfc01dd3024"
          }
        },
        "9b6753f6e38b463999ffaaa09ff11901": {
          "model_module": "@jupyter-widgets/controls",
          "model_module_version": "1.5.0",
          "model_name": "ProgressStyleModel",
          "state": {
            "_model_module": "@jupyter-widgets/controls",
            "_model_module_version": "1.5.0",
            "_model_name": "ProgressStyleModel",
            "_view_count": null,
            "_view_module": "@jupyter-widgets/base",
            "_view_module_version": "1.2.0",
            "_view_name": "StyleView",
            "bar_color": null,
            "description_width": ""
          }
        },
        "9f1adea1aa30450d800730f94aea4da6": {
          "model_module": "@jupyter-widgets/controls",
          "model_module_version": "1.5.0",
          "model_name": "ProgressStyleModel",
          "state": {
            "_model_module": "@jupyter-widgets/controls",
            "_model_module_version": "1.5.0",
            "_model_name": "ProgressStyleModel",
            "_view_count": null,
            "_view_module": "@jupyter-widgets/base",
            "_view_module_version": "1.2.0",
            "_view_name": "StyleView",
            "bar_color": null,
            "description_width": ""
          }
        },
        "ab00e150eb4f4203aa0279d16c53691b": {
          "model_module": "@jupyter-widgets/controls",
          "model_module_version": "1.5.0",
          "model_name": "HTMLModel",
          "state": {
            "_dom_classes": [],
            "_model_module": "@jupyter-widgets/controls",
            "_model_module_version": "1.5.0",
            "_model_name": "HTMLModel",
            "_view_count": null,
            "_view_module": "@jupyter-widgets/controls",
            "_view_module_version": "1.5.0",
            "_view_name": "HTMLView",
            "description": "",
            "description_tooltip": null,
            "layout": "IPY_MODEL_0f3de32ab20847cfb8b1202a7e236591",
            "placeholder": "​",
            "style": "IPY_MODEL_e4d96ecaa8944fedb9a20ab2405b834a",
            "value": "tokenizer_config.json: 100%"
          }
        },
        "bdfc0f3c54db4f8d959da87e75886310": {
          "model_module": "@jupyter-widgets/controls",
          "model_module_version": "1.5.0",
          "model_name": "DescriptionStyleModel",
          "state": {
            "_model_module": "@jupyter-widgets/controls",
            "_model_module_version": "1.5.0",
            "_model_name": "DescriptionStyleModel",
            "_view_count": null,
            "_view_module": "@jupyter-widgets/base",
            "_view_module_version": "1.2.0",
            "_view_name": "StyleView",
            "description_width": ""
          }
        },
        "cfed3e20aa3b44c09edacdfc01dd3024": {
          "model_module": "@jupyter-widgets/base",
          "model_module_version": "1.2.0",
          "model_name": "LayoutModel",
          "state": {
            "_model_module": "@jupyter-widgets/base",
            "_model_module_version": "1.2.0",
            "_model_name": "LayoutModel",
            "_view_count": null,
            "_view_module": "@jupyter-widgets/base",
            "_view_module_version": "1.2.0",
            "_view_name": "LayoutView",
            "align_content": null,
            "align_items": null,
            "align_self": null,
            "border": null,
            "bottom": null,
            "display": null,
            "flex": null,
            "flex_flow": null,
            "grid_area": null,
            "grid_auto_columns": null,
            "grid_auto_flow": null,
            "grid_auto_rows": null,
            "grid_column": null,
            "grid_gap": null,
            "grid_row": null,
            "grid_template_areas": null,
            "grid_template_columns": null,
            "grid_template_rows": null,
            "height": null,
            "justify_content": null,
            "justify_items": null,
            "left": null,
            "margin": null,
            "max_height": null,
            "max_width": null,
            "min_height": null,
            "min_width": null,
            "object_fit": null,
            "object_position": null,
            "order": null,
            "overflow": null,
            "overflow_x": null,
            "overflow_y": null,
            "padding": null,
            "right": null,
            "top": null,
            "visibility": null,
            "width": null
          }
        },
        "d5e76fd5f3d44c0b86e02e535d5e1971": {
          "model_module": "@jupyter-widgets/controls",
          "model_module_version": "1.5.0",
          "model_name": "DescriptionStyleModel",
          "state": {
            "_model_module": "@jupyter-widgets/controls",
            "_model_module_version": "1.5.0",
            "_model_name": "DescriptionStyleModel",
            "_view_count": null,
            "_view_module": "@jupyter-widgets/base",
            "_view_module_version": "1.2.0",
            "_view_name": "StyleView",
            "description_width": ""
          }
        },
        "d8ad691a28264c18969af7dacbff0601": {
          "model_module": "@jupyter-widgets/controls",
          "model_module_version": "1.5.0",
          "model_name": "HTMLModel",
          "state": {
            "_dom_classes": [],
            "_model_module": "@jupyter-widgets/controls",
            "_model_module_version": "1.5.0",
            "_model_name": "HTMLModel",
            "_view_count": null,
            "_view_module": "@jupyter-widgets/controls",
            "_view_module_version": "1.5.0",
            "_view_name": "HTMLView",
            "description": "",
            "description_tooltip": null,
            "layout": "IPY_MODEL_8e8a4979011d4d1ab10e4a0021205dee",
            "placeholder": "​",
            "style": "IPY_MODEL_bdfc0f3c54db4f8d959da87e75886310",
            "value": "config.json: 100%"
          }
        },
        "e375048e8a3c45fa8718904bc3ec8f32": {
          "model_module": "@jupyter-widgets/controls",
          "model_module_version": "1.5.0",
          "model_name": "DescriptionStyleModel",
          "state": {
            "_model_module": "@jupyter-widgets/controls",
            "_model_module_version": "1.5.0",
            "_model_name": "DescriptionStyleModel",
            "_view_count": null,
            "_view_module": "@jupyter-widgets/base",
            "_view_module_version": "1.2.0",
            "_view_name": "StyleView",
            "description_width": ""
          }
        },
        "e4d96ecaa8944fedb9a20ab2405b834a": {
          "model_module": "@jupyter-widgets/controls",
          "model_module_version": "1.5.0",
          "model_name": "DescriptionStyleModel",
          "state": {
            "_model_module": "@jupyter-widgets/controls",
            "_model_module_version": "1.5.0",
            "_model_name": "DescriptionStyleModel",
            "_view_count": null,
            "_view_module": "@jupyter-widgets/base",
            "_view_module_version": "1.2.0",
            "_view_name": "StyleView",
            "description_width": ""
          }
        },
        "eb4cccf06d2b4eb784aa70a1ae71c7aa": {
          "model_module": "@jupyter-widgets/controls",
          "model_module_version": "1.5.0",
          "model_name": "HBoxModel",
          "state": {
            "_dom_classes": [],
            "_model_module": "@jupyter-widgets/controls",
            "_model_module_version": "1.5.0",
            "_model_name": "HBoxModel",
            "_view_count": null,
            "_view_module": "@jupyter-widgets/controls",
            "_view_module_version": "1.5.0",
            "_view_name": "HBoxView",
            "box_style": "",
            "children": [
              "IPY_MODEL_d8ad691a28264c18969af7dacbff0601",
              "IPY_MODEL_2bf31f52f203477b8cc5072bdcc7bbdb",
              "IPY_MODEL_524ec21cd9b94a4c8951706e9f7e87da"
            ],
            "layout": "IPY_MODEL_418d333499814746beca2ff2f4bd37c4"
          }
        },
        "ef6bcc392a454e0faf3abde38f689142": {
          "model_module": "@jupyter-widgets/controls",
          "model_module_version": "1.5.0",
          "model_name": "HTMLModel",
          "state": {
            "_dom_classes": [],
            "_model_module": "@jupyter-widgets/controls",
            "_model_module_version": "1.5.0",
            "_model_name": "HTMLModel",
            "_view_count": null,
            "_view_module": "@jupyter-widgets/controls",
            "_view_module_version": "1.5.0",
            "_view_name": "HTMLView",
            "description": "",
            "description_tooltip": null,
            "layout": "IPY_MODEL_2b6852bbc6204ecdbbd49e3168189ecb",
            "placeholder": "​",
            "style": "IPY_MODEL_d5e76fd5f3d44c0b86e02e535d5e1971",
            "value": "special_tokens_map.json: 100%"
          }
        },
        "f02030d953ba4a01b109e4a13020381d": {
          "model_module": "@jupyter-widgets/controls",
          "model_module_version": "1.5.0",
          "model_name": "FloatProgressModel",
          "state": {
            "_dom_classes": [],
            "_model_module": "@jupyter-widgets/controls",
            "_model_module_version": "1.5.0",
            "_model_name": "FloatProgressModel",
            "_view_count": null,
            "_view_module": "@jupyter-widgets/controls",
            "_view_module_version": "1.5.0",
            "_view_name": "ProgressView",
            "bar_style": "success",
            "description": "",
            "description_tooltip": null,
            "layout": "IPY_MODEL_51c2833e985440ce92dc30cb2c7e9252",
            "max": 433288887,
            "min": 0,
            "orientation": "horizontal",
            "style": "IPY_MODEL_07f649beb3c0495c981e606a43be2612",
            "value": 433288887
          }
        },
        "f4af98c89a8c48c485c52107cf97dc30": {
          "model_module": "@jupyter-widgets/controls",
          "model_module_version": "1.5.0",
          "model_name": "DescriptionStyleModel",
          "state": {
            "_model_module": "@jupyter-widgets/controls",
            "_model_module_version": "1.5.0",
            "_model_name": "DescriptionStyleModel",
            "_view_count": null,
            "_view_module": "@jupyter-widgets/base",
            "_view_module_version": "1.2.0",
            "_view_name": "StyleView",
            "description_width": ""
          }
        },
        "f5d466121fee4ed6b62de1f5c5065451": {
          "model_module": "@jupyter-widgets/controls",
          "model_module_version": "1.5.0",
          "model_name": "HBoxModel",
          "state": {
            "_dom_classes": [],
            "_model_module": "@jupyter-widgets/controls",
            "_model_module_version": "1.5.0",
            "_model_name": "HBoxModel",
            "_view_count": null,
            "_view_module": "@jupyter-widgets/controls",
            "_view_module_version": "1.5.0",
            "_view_name": "HBoxView",
            "box_style": "",
            "children": [
              "IPY_MODEL_8abcc5aa76b848d4aa000c4dab1879dc",
              "IPY_MODEL_27c8fa566e0e4259ba70734958bb1f1e",
              "IPY_MODEL_4d16a69ea3a74352be10055cde8e0e5d"
            ],
            "layout": "IPY_MODEL_9323b2c5aec54d21bd3ba9d10f897d1f"
          }
        },
        "fcdcce86fa2a45e684e7341e0aa313d4": {
          "model_module": "@jupyter-widgets/controls",
          "model_module_version": "1.5.0",
          "model_name": "DescriptionStyleModel",
          "state": {
            "_model_module": "@jupyter-widgets/controls",
            "_model_module_version": "1.5.0",
            "_model_name": "DescriptionStyleModel",
            "_view_count": null,
            "_view_module": "@jupyter-widgets/base",
            "_view_module_version": "1.2.0",
            "_view_name": "StyleView",
            "description_width": ""
          }
        },
        "fdbf9abce9d34699aac1f7c2bc9e0b3b": {
          "model_module": "@jupyter-widgets/controls",
          "model_module_version": "1.5.0",
          "model_name": "HBoxModel",
          "state": {
            "_dom_classes": [],
            "_model_module": "@jupyter-widgets/controls",
            "_model_module_version": "1.5.0",
            "_model_name": "HBoxModel",
            "_view_count": null,
            "_view_module": "@jupyter-widgets/controls",
            "_view_module_version": "1.5.0",
            "_view_name": "HBoxView",
            "box_style": "",
            "children": [
              "IPY_MODEL_74596a9bde894ea0945664c2b8bb5d66",
              "IPY_MODEL_f02030d953ba4a01b109e4a13020381d",
              "IPY_MODEL_7ef7f7fea60147d29a5e80232432f3fd"
            ],
            "layout": "IPY_MODEL_50d56321743d4b2fa8a1923491f1505f"
          }
        }
      }
    }
  },
  "nbformat": 4,
  "nbformat_minor": 0
}